{
 "cells": [
  {
   "cell_type": "code",
   "execution_count": 5,
   "metadata": {},
   "outputs": [],
   "source": [
    "import os\n",
    "import glob\n",
    "import tqdm \n",
    "import shutil"
   ]
  },
  {
   "cell_type": "code",
   "execution_count": 6,
   "metadata": {},
   "outputs": [],
   "source": [
    "path_malignant_1 = '/Users/utkarsh/Desktop/BreaKHis_v1/breast2/malignant/ductal_carcinoma/*/*/*'\n",
    "path_dest = '/Users/utkarsh/Desktop/BreaKHis_v1/breast3/malignant/nonAugmentedimages/ductal_carcinoma'"
   ]
  },
  {
   "cell_type": "code",
   "execution_count": 7,
   "metadata": {},
   "outputs": [],
   "source": [
    "for i , file in enumerate(glob.glob(path_malignant_1)):\n",
    "    shutil.copy(file , path_dest)\n",
    "    "
   ]
  },
  {
   "cell_type": "code",
   "execution_count": 8,
   "metadata": {},
   "outputs": [],
   "source": [
    "path_malignant_2 = '/Users/utkarsh/Desktop/BreaKHis_v1/breast2/malignant/lobular_carcinoma/*/*/*'\n",
    "path_dest_2 = '/Users/utkarsh/Desktop/BreaKHis_v1/breast3/malignant/nonAugmentedimages/lobular_carcinoma'\n",
    "\n",
    "for i , file in enumerate(glob.glob(path_malignant_2)):\n",
    "    shutil.copy(file , path_dest_2)\n",
    "    "
   ]
  },
  {
   "cell_type": "code",
   "execution_count": 9,
   "metadata": {},
   "outputs": [],
   "source": [
    "path_malignant_2 = '/Users/utkarsh/Desktop/BreaKHis_v1/breast2/malignant/mucinous_carcinoma/*/*/*'\n",
    "path_dest_2 = '/Users/utkarsh/Desktop/BreaKHis_v1/breast3/malignant/nonAugmentedimages/mucinous_carcinoma'\n",
    "\n",
    "for i , file in enumerate(glob.glob(path_malignant_2)):\n",
    "    shutil.copy(file , path_dest_2)\n",
    "    "
   ]
  },
  {
   "cell_type": "code",
   "execution_count": 10,
   "metadata": {},
   "outputs": [],
   "source": [
    "path_malignant_2 = '/Users/utkarsh/Desktop/BreaKHis_v1/breast2/malignant/papillary_carcinoma/*/*/*'\n",
    "path_dest_2 = '/Users/utkarsh/Desktop/BreaKHis_v1/breast3/malignant/nonAugmentedimages/papillary_carcinoma'\n",
    "\n",
    "for i , file in enumerate(glob.glob(path_malignant_2)):\n",
    "    shutil.copy(file , path_dest_2)\n",
    "    "
   ]
  },
  {
   "cell_type": "code",
   "execution_count": 14,
   "metadata": {},
   "outputs": [
    {
     "name": "stdout",
     "output_type": "stream",
     "text": [
      "ductal_carcinoma - 3451\n",
      "lobular_carcinoma - 626\n",
      "mucinous_carcinoma - 792\n",
      "papillary_carcinoma - 560\n"
     ]
    }
   ],
   "source": [
    "path1 = '/Users/utkarsh/Desktop/BreaKHis_v1/breast3/malignant/nonAugmentedimages/ductal_carcinoma'\n",
    "path2 = '/Users/utkarsh/Desktop/BreaKHis_v1/breast3/malignant/nonAugmentedimages/lobular_carcinoma'\n",
    "path3 = '/Users/utkarsh/Desktop/BreaKHis_v1/breast3/malignant/nonAugmentedimages/mucinous_carcinoma'\n",
    "path4 = '/Users/utkarsh/Desktop/BreaKHis_v1/breast3/malignant/nonAugmentedimages/papillary_carcinoma'\n",
    "print(\"ductal_carcinoma - \" + str(len(os.listdir(path1))))\n",
    "print(\"lobular_carcinoma - \" + str(len(os.listdir(path2))))\n",
    "print(\"mucinous_carcinoma - \" + str(len(os.listdir(path3))))\n",
    "print(\"papillary_carcinoma - \" + str(len(os.listdir(path4))))\n"
   ]
  },
  {
   "cell_type": "code",
   "execution_count": 16,
   "metadata": {},
   "outputs": [],
   "source": [
    "from keras.preprocessing.image import ImageDataGenerator\n",
    "# ,img_to_array,load_img\n",
    "from tensorflow.keras.utils import img_to_array , load_img\n",
    "import numpy as np\n",
    "import os\n",
    "from imutils import paths\n",
    "import random"
   ]
  },
  {
   "cell_type": "code",
   "execution_count": 17,
   "metadata": {},
   "outputs": [],
   "source": [
    "augmentedimagegenerator = ImageDataGenerator(\n",
    "    rotation_range=40,\n",
    "    width_shift_range=0.2,\n",
    "    height_shift_range=0.2,\n",
    "    rescale=1./255,\n",
    "    shear_range=0.2,\n",
    "    zoom_range=0.2,\n",
    "    horizontal_flip=True,\n",
    "    fill_mode='nearest'\n",
    ")"
   ]
  },
  {
   "cell_type": "code",
   "execution_count": 26,
   "metadata": {},
   "outputs": [
    {
     "name": "stdout",
     "output_type": "stream",
     "text": [
      "3451\n",
      "0\n",
      "701\n"
     ]
    }
   ],
   "source": [
    "\n",
    "random.seed(42)\n",
    "dataset_ductal_carcinoma='/Users/utkarsh/Desktop/BreaKHis_v1/breast3/malignant/nonAugmentedimages/ductal_carcinoma'\n",
    "imagepaths_ductal_carcinoma=sorted(list(paths.list_images(dataset_ductal_carcinoma)))\n",
    "print(len(imagepaths_ductal_carcinoma))\n",
    "random.shuffle(imagepaths_ductal_carcinoma)\n",
    "augmented_dataset_ductal_carcinoma='/Users/utkarsh/Desktop/BreaKHis_v1/breast3/malignant/augmentedimages/ductal_carcinoma'\n",
    "augmented_imagepaths_ductal_carcinoma=sorted(list(paths.list_images(augmented_dataset_ductal_carcinoma)))\n",
    "print(len(augmented_imagepaths_ductal_carcinoma))\n",
    "for imgpath in imagepaths_ductal_carcinoma:\n",
    "  # print(imgpath)\n",
    "  try:\n",
    "    image=load_img(imgpath)\n",
    "    x = img_to_array(image) \n",
    "    x = x.reshape((1,) + x.shape)\n",
    "    i = 0\n",
    "    for batch in augmentedimagegenerator.flow(x, batch_size=64,save_to_dir=augmented_dataset_ductal_carcinoma, save_prefix='aug', save_format='png'):\n",
    "      i=i+1\n",
    "      augmented_imagepaths_ductal_carcinoma=sorted(list(paths.list_images(augmented_dataset_ductal_carcinoma)))\n",
    "      if i>2:\n",
    "        break\n",
    "  except Exception as e:\n",
    "    print(e)\n",
    "  finally:\n",
    "    if len(augmented_imagepaths_ductal_carcinoma)>700:\n",
    "      break\n",
    "print(len(augmented_imagepaths_ductal_carcinoma))\n"
   ]
  },
  {
   "cell_type": "code",
   "execution_count": 27,
   "metadata": {},
   "outputs": [
    {
     "name": "stdout",
     "output_type": "stream",
     "text": [
      "626\n",
      "0\n",
      "702\n"
     ]
    }
   ],
   "source": [
    "\n",
    "random.seed(42)\n",
    "dataset_ductal_carcinoma='/Users/utkarsh/Desktop/BreaKHis_v1/breast3/malignant/nonAugmentedimages/lobular_carcinoma'\n",
    "imagepaths_ductal_carcinoma=sorted(list(paths.list_images(dataset_ductal_carcinoma)))\n",
    "print(len(imagepaths_ductal_carcinoma))\n",
    "random.shuffle(imagepaths_ductal_carcinoma)\n",
    "augmented_dataset_ductal_carcinoma='/Users/utkarsh/Desktop/BreaKHis_v1/breast3/malignant/augmentedimages/lobular_carcinoma'\n",
    "augmented_imagepaths_ductal_carcinoma=sorted(list(paths.list_images(augmented_dataset_ductal_carcinoma)))\n",
    "print(len(augmented_imagepaths_ductal_carcinoma))\n",
    "for imgpath in imagepaths_ductal_carcinoma:\n",
    "  # print(imgpath)\n",
    "  try:\n",
    "    image=load_img(imgpath)\n",
    "    x = img_to_array(image) \n",
    "    x = x.reshape((1,) + x.shape)\n",
    "    i = 0\n",
    "    for batch in augmentedimagegenerator.flow(x, batch_size=64,save_to_dir=augmented_dataset_ductal_carcinoma, save_prefix='aug', save_format='png'):\n",
    "      i=i+1\n",
    "      augmented_imagepaths_ductal_carcinoma=sorted(list(paths.list_images(augmented_dataset_ductal_carcinoma)))\n",
    "      if i>2:\n",
    "        break\n",
    "  except Exception as e:\n",
    "    print(e)\n",
    "  finally:\n",
    "    if len(augmented_imagepaths_ductal_carcinoma)>700:\n",
    "      break\n",
    "print(len(augmented_imagepaths_ductal_carcinoma))\n"
   ]
  },
  {
   "cell_type": "code",
   "execution_count": 28,
   "metadata": {},
   "outputs": [
    {
     "name": "stdout",
     "output_type": "stream",
     "text": [
      "792\n",
      "0\n",
      "702\n"
     ]
    }
   ],
   "source": [
    "\n",
    "random.seed(42)\n",
    "dataset_ductal_carcinoma='/Users/utkarsh/Desktop/BreaKHis_v1/breast3/malignant/nonAugmentedimages/mucinous_carcinoma'\n",
    "imagepaths_ductal_carcinoma=sorted(list(paths.list_images(dataset_ductal_carcinoma)))\n",
    "print(len(imagepaths_ductal_carcinoma))\n",
    "random.shuffle(imagepaths_ductal_carcinoma)\n",
    "augmented_dataset_ductal_carcinoma='/Users/utkarsh/Desktop/BreaKHis_v1/breast3/malignant/augmentedimages/mucinous_carcinoma'\n",
    "augmented_imagepaths_ductal_carcinoma=sorted(list(paths.list_images(augmented_dataset_ductal_carcinoma)))\n",
    "print(len(augmented_imagepaths_ductal_carcinoma))\n",
    "for imgpath in imagepaths_ductal_carcinoma:\n",
    "  # print(imgpath)\n",
    "  try:\n",
    "    image=load_img(imgpath)\n",
    "    x = img_to_array(image) \n",
    "    x = x.reshape((1,) + x.shape)\n",
    "    i = 0\n",
    "    for batch in augmentedimagegenerator.flow(x, batch_size=64,save_to_dir=augmented_dataset_ductal_carcinoma, save_prefix='aug', save_format='png'):\n",
    "      i=i+1\n",
    "      augmented_imagepaths_ductal_carcinoma=sorted(list(paths.list_images(augmented_dataset_ductal_carcinoma)))\n",
    "      if i>2:\n",
    "        break\n",
    "  except Exception as e:\n",
    "    print(e)\n",
    "  finally:\n",
    "    if len(augmented_imagepaths_ductal_carcinoma)>700:\n",
    "      break\n",
    "print(len(augmented_imagepaths_ductal_carcinoma))\n"
   ]
  },
  {
   "cell_type": "code",
   "execution_count": 29,
   "metadata": {},
   "outputs": [
    {
     "name": "stdout",
     "output_type": "stream",
     "text": [
      "560\n",
      "0\n",
      "701\n"
     ]
    }
   ],
   "source": [
    "\n",
    "random.seed(42)\n",
    "dataset_ductal_carcinoma='/Users/utkarsh/Desktop/BreaKHis_v1/breast3/malignant/nonAugmentedimages/papillary_carcinoma'\n",
    "imagepaths_ductal_carcinoma=sorted(list(paths.list_images(dataset_ductal_carcinoma)))\n",
    "print(len(imagepaths_ductal_carcinoma))\n",
    "random.shuffle(imagepaths_ductal_carcinoma)\n",
    "augmented_dataset_ductal_carcinoma='/Users/utkarsh/Desktop/BreaKHis_v1/breast3/malignant/augmentedimages/papillary_carcinoma'\n",
    "augmented_imagepaths_ductal_carcinoma=sorted(list(paths.list_images(augmented_dataset_ductal_carcinoma)))\n",
    "print(len(augmented_imagepaths_ductal_carcinoma))\n",
    "for imgpath in imagepaths_ductal_carcinoma:\n",
    "  # print(imgpath)\n",
    "  try:\n",
    "    image=load_img(imgpath)\n",
    "    x = img_to_array(image) \n",
    "    x = x.reshape((1,) + x.shape)\n",
    "    i = 0\n",
    "    for batch in augmentedimagegenerator.flow(x, batch_size=64,save_to_dir=augmented_dataset_ductal_carcinoma, save_prefix='aug', save_format='png'):\n",
    "      i=i+1\n",
    "      augmented_imagepaths_ductal_carcinoma=sorted(list(paths.list_images(augmented_dataset_ductal_carcinoma)))\n",
    "      if i>2:\n",
    "        break\n",
    "  except Exception as e:\n",
    "    print(e)\n",
    "  finally:\n",
    "    if len(augmented_imagepaths_ductal_carcinoma)>700:\n",
    "      break\n",
    "print(len(augmented_imagepaths_ductal_carcinoma))\n"
   ]
  },
  {
   "cell_type": "code",
   "execution_count": 31,
   "metadata": {},
   "outputs": [
    {
     "name": "stdout",
     "output_type": "stream",
     "text": [
      "444\n",
      "0\n",
      "702\n"
     ]
    }
   ],
   "source": [
    "\n",
    "random.seed(42)\n",
    "dataset_ductal_carcinoma='/Users/utkarsh/Desktop/BreaKHis_v1/breast3/benign/nonAugmentedimages/adenosis'\n",
    "imagepaths_ductal_carcinoma=sorted(list(paths.list_images(dataset_ductal_carcinoma)))\n",
    "print(len(imagepaths_ductal_carcinoma))\n",
    "random.shuffle(imagepaths_ductal_carcinoma)\n",
    "augmented_dataset_ductal_carcinoma='/Users/utkarsh/Desktop/BreaKHis_v1/breast3/benign/augmentedimages/adenosis'\n",
    "augmented_imagepaths_ductal_carcinoma=sorted(list(paths.list_images(augmented_dataset_ductal_carcinoma)))\n",
    "print(len(augmented_imagepaths_ductal_carcinoma))\n",
    "for imgpath in imagepaths_ductal_carcinoma:\n",
    "  # print(imgpath)\n",
    "  try:\n",
    "    image=load_img(imgpath)\n",
    "    x = img_to_array(image) \n",
    "    x = x.reshape((1,) + x.shape)\n",
    "    i = 0\n",
    "    for batch in augmentedimagegenerator.flow(x, batch_size=64,save_to_dir=augmented_dataset_ductal_carcinoma, save_prefix='aug', save_format='png'):\n",
    "      i=i+1\n",
    "      augmented_imagepaths_ductal_carcinoma=sorted(list(paths.list_images(augmented_dataset_ductal_carcinoma)))\n",
    "      if i>2:\n",
    "        break\n",
    "  except Exception as e:\n",
    "    print(e)\n",
    "  finally:\n",
    "    if len(augmented_imagepaths_ductal_carcinoma)>700:\n",
    "      break\n",
    "print(len(augmented_imagepaths_ductal_carcinoma))\n"
   ]
  },
  {
   "cell_type": "code",
   "execution_count": 32,
   "metadata": {},
   "outputs": [
    {
     "name": "stdout",
     "output_type": "stream",
     "text": [
      "1014\n",
      "0\n",
      "702\n"
     ]
    }
   ],
   "source": [
    "\n",
    "random.seed(42)\n",
    "dataset_ductal_carcinoma='/Users/utkarsh/Desktop/BreaKHis_v1/breast3/benign/nonAugmentedimages/fibroadenoma'\n",
    "imagepaths_ductal_carcinoma=sorted(list(paths.list_images(dataset_ductal_carcinoma)))\n",
    "print(len(imagepaths_ductal_carcinoma))\n",
    "random.shuffle(imagepaths_ductal_carcinoma)\n",
    "augmented_dataset_ductal_carcinoma='/Users/utkarsh/Desktop/BreaKHis_v1/breast3/benign/augmentedimages/fibroadenoma'\n",
    "augmented_imagepaths_ductal_carcinoma=sorted(list(paths.list_images(augmented_dataset_ductal_carcinoma)))\n",
    "print(len(augmented_imagepaths_ductal_carcinoma))\n",
    "for imgpath in imagepaths_ductal_carcinoma:\n",
    "  # print(imgpath)\n",
    "  try:\n",
    "    image=load_img(imgpath)\n",
    "    x = img_to_array(image) \n",
    "    x = x.reshape((1,) + x.shape)\n",
    "    i = 0\n",
    "    for batch in augmentedimagegenerator.flow(x, batch_size=64,save_to_dir=augmented_dataset_ductal_carcinoma, save_prefix='aug', save_format='png'):\n",
    "      i=i+1\n",
    "      augmented_imagepaths_ductal_carcinoma=sorted(list(paths.list_images(augmented_dataset_ductal_carcinoma)))\n",
    "      if i>2:\n",
    "        break\n",
    "  except Exception as e:\n",
    "    print(e)\n",
    "  finally:\n",
    "    if len(augmented_imagepaths_ductal_carcinoma)>700:\n",
    "      break\n",
    "print(len(augmented_imagepaths_ductal_carcinoma))\n"
   ]
  },
  {
   "cell_type": "code",
   "execution_count": 33,
   "metadata": {},
   "outputs": [
    {
     "name": "stdout",
     "output_type": "stream",
     "text": [
      "453\n",
      "0\n",
      "701\n"
     ]
    }
   ],
   "source": [
    "\n",
    "random.seed(42)\n",
    "dataset_ductal_carcinoma='/Users/utkarsh/Desktop/BreaKHis_v1/breast3/benign/nonAugmentedimages/phyllodes_tumor'\n",
    "imagepaths_ductal_carcinoma=sorted(list(paths.list_images(dataset_ductal_carcinoma)))\n",
    "print(len(imagepaths_ductal_carcinoma))\n",
    "random.shuffle(imagepaths_ductal_carcinoma)\n",
    "augmented_dataset_ductal_carcinoma='/Users/utkarsh/Desktop/BreaKHis_v1/breast3/benign/augmentedimages/phyllodes_tumor'\n",
    "augmented_imagepaths_ductal_carcinoma=sorted(list(paths.list_images(augmented_dataset_ductal_carcinoma)))\n",
    "print(len(augmented_imagepaths_ductal_carcinoma))\n",
    "for imgpath in imagepaths_ductal_carcinoma:\n",
    "  # print(imgpath)\n",
    "  try:\n",
    "    image=load_img(imgpath)\n",
    "    x = img_to_array(image) \n",
    "    x = x.reshape((1,) + x.shape)\n",
    "    i = 0\n",
    "    for batch in augmentedimagegenerator.flow(x, batch_size=64,save_to_dir=augmented_dataset_ductal_carcinoma, save_prefix='aug', save_format='png'):\n",
    "      i=i+1\n",
    "      augmented_imagepaths_ductal_carcinoma=sorted(list(paths.list_images(augmented_dataset_ductal_carcinoma)))\n",
    "      if i>2:\n",
    "        break\n",
    "  except Exception as e:\n",
    "    print(e)\n",
    "  finally:\n",
    "    if len(augmented_imagepaths_ductal_carcinoma)>700:\n",
    "      break\n",
    "print(len(augmented_imagepaths_ductal_carcinoma))\n"
   ]
  },
  {
   "cell_type": "code",
   "execution_count": 34,
   "metadata": {},
   "outputs": [
    {
     "name": "stdout",
     "output_type": "stream",
     "text": [
      "569\n",
      "0\n",
      "703\n"
     ]
    }
   ],
   "source": [
    "\n",
    "random.seed(42)\n",
    "dataset_ductal_carcinoma='/Users/utkarsh/Desktop/BreaKHis_v1/breast3/benign/nonAugmentedimages/tubular_adenoma'\n",
    "imagepaths_ductal_carcinoma=sorted(list(paths.list_images(dataset_ductal_carcinoma)))\n",
    "print(len(imagepaths_ductal_carcinoma))\n",
    "random.shuffle(imagepaths_ductal_carcinoma)\n",
    "augmented_dataset_ductal_carcinoma='/Users/utkarsh/Desktop/BreaKHis_v1/breast3/benign/augmentedimages/tubular_adenoma'\n",
    "augmented_imagepaths_ductal_carcinoma=sorted(list(paths.list_images(augmented_dataset_ductal_carcinoma)))\n",
    "print(len(augmented_imagepaths_ductal_carcinoma))\n",
    "for imgpath in imagepaths_ductal_carcinoma:\n",
    "  # print(imgpath)\n",
    "  try:\n",
    "    image=load_img(imgpath)\n",
    "    x = img_to_array(image) \n",
    "    x = x.reshape((1,) + x.shape)\n",
    "    i = 0\n",
    "    for batch in augmentedimagegenerator.flow(x, batch_size=64,save_to_dir=augmented_dataset_ductal_carcinoma, save_prefix='aug', save_format='png'):\n",
    "      i=i+1\n",
    "      augmented_imagepaths_ductal_carcinoma=sorted(list(paths.list_images(augmented_dataset_ductal_carcinoma)))\n",
    "      if i>2:\n",
    "        break\n",
    "  except Exception as e:\n",
    "    print(e)\n",
    "  finally:\n",
    "    if len(augmented_imagepaths_ductal_carcinoma)>700:\n",
    "      break\n",
    "print(len(augmented_imagepaths_ductal_carcinoma))\n"
   ]
  },
  {
   "cell_type": "code",
   "execution_count": null,
   "metadata": {},
   "outputs": [],
   "source": []
  }
 ],
 "metadata": {
  "kernelspec": {
   "display_name": "Python 3.9.12 ('tfm1')",
   "language": "python",
   "name": "python3"
  },
  "language_info": {
   "codemirror_mode": {
    "name": "ipython",
    "version": 3
   },
   "file_extension": ".py",
   "mimetype": "text/x-python",
   "name": "python",
   "nbconvert_exporter": "python",
   "pygments_lexer": "ipython3",
   "version": "3.9.12"
  },
  "orig_nbformat": 4,
  "vscode": {
   "interpreter": {
    "hash": "39204afba3d045e28ba2909f1c2d030f7ecdbbd34128e49500a060746f0c35fc"
   }
  }
 },
 "nbformat": 4,
 "nbformat_minor": 2
}
