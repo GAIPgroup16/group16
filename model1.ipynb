{
 "cells": [
  {
   "cell_type": "code",
   "execution_count": 11,
   "id": "6e656ddb-a6b3-4437-b5b4-7914f3ca7359",
   "metadata": {},
   "outputs": [],
   "source": [
    "import json\n",
    "import math\n",
    "import os\n",
    "\n",
    "import cv2\n",
    "from PIL import Image\n",
    "import numpy as np\n",
    "from keras import layers\n",
    "from keras.applications import ResNet50,MobileNet, DenseNet201, InceptionV3, NASNetLarge, InceptionResNetV2, NASNetMobile\n",
    "from keras.callbacks import Callback, ModelCheckpoint, ReduceLROnPlateau, TensorBoard\n",
    "from keras.preprocessing.image import ImageDataGenerator\n",
    "from keras.utils.np_utils import to_categorical\n",
    "from keras.models import Sequential\n",
    "from keras.optimizers import Adam\n",
    "import matplotlib.pyplot as plt\n",
    "import pandas as pd\n",
    "from sklearn.model_selection import train_test_split\n",
    "from sklearn.metrics import cohen_kappa_score, accuracy_score\n",
    "import scipy\n",
    "from tqdm import tqdm\n",
    "import tensorflow as tf\n",
    "from keras import backend as K\n",
    "import gc\n",
    "from functools import partial\n",
    "from sklearn import metrics\n",
    "from collections import Counter\n",
    "import json\n",
    "import itertools"
   ]
  },
  {
   "cell_type": "code",
   "execution_count": null,
   "id": "9864f688-c824-4d4e-9852-f7417d791992",
   "metadata": {},
   "outputs": [],
   "source": []
  },
  {
   "cell_type": "code",
   "execution_count": 50,
   "id": "4ec9ea91-0c04-4abd-ab6e-4cddf59d3962",
   "metadata": {
    "tags": []
   },
   "outputs": [
    {
     "name": "stderr",
     "output_type": "stream",
     "text": [
      "100%|██████████| 2481/2481 [00:28<00:00, 86.64it/s]\n"
     ]
    }
   ],
   "source": [
    "benign_processed  = []\n",
    "path = '/Users/utkarsh/Desktop/BreaKHis_v1/breast/benign'\n",
    "read = lambda imname: np.asarray(Image.open(imname).convert(\"RGB\"))\n",
    "for IMAGE_NAME in tqdm(os.listdir(path)):\n",
    "    PATH = os.path.join(path,IMAGE_NAME)\n",
    "    _, ftype = os.path.splitext(PATH)\n",
    "    if ftype == \".png\":\n",
    "        img = read(PATH)\n",
    "        img = cv2.resize(img, (256,256))   \n",
    "        benign_processed.append(np.array(img))"
   ]
  },
  {
   "cell_type": "code",
   "execution_count": 52,
   "id": "5dd4da42-b43d-4e15-933f-b70e3baf9d85",
   "metadata": {},
   "outputs": [
    {
     "name": "stdout",
     "output_type": "stream",
     "text": [
      "2480\n"
     ]
    },
    {
     "data": {
      "text/plain": [
       "array([[[192, 190, 183],\n",
       "        [189, 189, 186],\n",
       "        [186, 184, 179],\n",
       "        ...,\n",
       "        [188, 192, 202],\n",
       "        [188, 190, 202],\n",
       "        [174, 171, 194]],\n",
       "\n",
       "       [[186, 188, 193],\n",
       "        [188, 188, 195],\n",
       "        [177, 176, 173],\n",
       "        ...,\n",
       "        [190, 188, 192],\n",
       "        [183, 182, 193],\n",
       "        [164, 164, 180]],\n",
       "\n",
       "       [[181, 185, 194],\n",
       "        [182, 183, 194],\n",
       "        [177, 173, 180],\n",
       "        ...,\n",
       "        [191, 184, 182],\n",
       "        [179, 168, 179],\n",
       "        [171, 168, 179]],\n",
       "\n",
       "       ...,\n",
       "\n",
       "       [[197, 186, 184],\n",
       "        [190, 180, 180],\n",
       "        [178, 168, 170],\n",
       "        ...,\n",
       "        [179, 176, 176],\n",
       "        [181, 180, 179],\n",
       "        [182, 176, 171]],\n",
       "\n",
       "       [[201, 184, 182],\n",
       "        [193, 180, 179],\n",
       "        [177, 170, 161],\n",
       "        ...,\n",
       "        [170, 169, 172],\n",
       "        [173, 168, 171],\n",
       "        [174, 163, 164]],\n",
       "\n",
       "       [[202, 185, 179],\n",
       "        [190, 176, 171],\n",
       "        [178, 170, 162],\n",
       "        ...,\n",
       "        [167, 165, 169],\n",
       "        [169, 161, 171],\n",
       "        [165, 153, 169]]], dtype=uint8)"
      ]
     },
     "execution_count": 52,
     "metadata": {},
     "output_type": "execute_result"
    }
   ],
   "source": [
    "print(len(benign_processed))\n",
    "benign_processed[1]"
   ]
  },
  {
   "cell_type": "code",
   "execution_count": 53,
   "id": "b8c9a61f-7200-49f5-a792-09cd1463c492",
   "metadata": {},
   "outputs": [
    {
     "name": "stderr",
     "output_type": "stream",
     "text": [
      "100%|██████████| 5430/5430 [01:03<00:00, 85.82it/s]\n"
     ]
    }
   ],
   "source": [
    "malignant_processed  = []\n",
    "path = '/Users/utkarsh/Desktop/BreaKHis_v1/breast/malignant'\n",
    "read = lambda imname: np.asarray(Image.open(imname).convert(\"RGB\"))\n",
    "for IMAGE_NAME in tqdm(os.listdir(path)):\n",
    "    PATH = os.path.join(path,IMAGE_NAME)\n",
    "    _, ftype = os.path.splitext(PATH)\n",
    "    if ftype == \".png\":\n",
    "        img = read(PATH)\n",
    "        img = cv2.resize(img, (256,256))   \n",
    "        malignant_processed.append(np.array(img))"
   ]
  },
  {
   "cell_type": "code",
   "execution_count": 55,
   "id": "a21edb38-47e0-4f55-a41c-035de8c25d0b",
   "metadata": {},
   "outputs": [
    {
     "name": "stdout",
     "output_type": "stream",
     "text": [
      "5429\n"
     ]
    }
   ],
   "source": [
    "print(len(malignant_processed))"
   ]
  },
  {
   "cell_type": "code",
   "execution_count": null,
   "id": "a90d21b6-72a8-480b-8d4c-b5cab1fca861",
   "metadata": {},
   "outputs": [],
   "source": []
  },
  {
   "cell_type": "code",
   "execution_count": null,
   "id": "51e95cf4-62f4-4060-990d-b26f3f8cdcb1",
   "metadata": {},
   "outputs": [],
   "source": []
  },
  {
   "cell_type": "code",
   "execution_count": null,
   "id": "199a522d-d9b3-40b5-ba19-85e8942aede9",
   "metadata": {},
   "outputs": [],
   "source": []
  },
  {
   "cell_type": "code",
   "execution_count": null,
   "id": "f41b42e1-04c1-48d7-8524-bf1b2488cd43",
   "metadata": {},
   "outputs": [],
   "source": [
    "    "
   ]
  },
  {
   "cell_type": "code",
   "execution_count": null,
   "id": "a8f5ea6b-dcd6-4ac9-8725-2133b119967b",
   "metadata": {},
   "outputs": [],
   "source": [
    "    "
   ]
  },
  {
   "cell_type": "code",
   "execution_count": null,
   "id": "00690b2a-c7c4-4b22-8483-efe590b66dab",
   "metadata": {},
   "outputs": [],
   "source": []
  },
  {
   "cell_type": "code",
   "execution_count": null,
   "id": "8a123034-295e-493f-9be7-f092a271508d",
   "metadata": {},
   "outputs": [],
   "source": []
  }
 ],
 "metadata": {
  "kernelspec": {
   "display_name": "Python (tfm1)",
   "language": "python",
   "name": "myenv"
  },
  "language_info": {
   "codemirror_mode": {
    "name": "ipython",
    "version": 3
   },
   "file_extension": ".py",
   "mimetype": "text/x-python",
   "name": "python",
   "nbconvert_exporter": "python",
   "pygments_lexer": "ipython3",
   "version": "3.9.12"
  }
 },
 "nbformat": 4,
 "nbformat_minor": 5
}
