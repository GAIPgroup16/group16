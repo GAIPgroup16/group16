{
 "cells": [
  {
   "cell_type": "code",
   "execution_count": 74,
   "metadata": {},
   "outputs": [],
   "source": [
    "import os\n",
    "import numpy as np\n",
    "import tqdm\n",
    "import cv2\n",
    "from PIL import Image\n",
    "import random\n",
    "import tensorflow as tf\n",
    "from tensorflow import keras\n",
    "from keras.layers import Conv2D\n",
    "from keras.layers import BatchNormalization\n",
    "from keras.layers import MaxPool2D\n",
    "from keras.layers import Flatten\n",
    "from keras.layers import Dense\n",
    "from keras.layers import LeakyReLU\n",
    "from keras.layers import Softmax\n",
    "from keras.layers import Dropout\n",
    "from keras import regularizers\n",
    "from keras import Sequential\n",
    "from keras.optimizers import Adam\n",
    "from sklearn.preprocessing import scale\n",
    "import pandas as pd\n",
    "from sklearn.model_selection import train_test_split\n",
    "from sklearn.metrics import classification_report, confusion_matrix\n",
    "from keras.callbacks import Callback, ModelCheckpoint, ReduceLROnPlateau, TensorBoard\n",
    "import matplotlib.pyplot as plt\n",
    "from sklearn.metrics import confusion_matrix, ConfusionMatrixDisplay\n",
    "from sklearn.metrics import roc_auc_score, auc\n",
    "from sklearn.metrics import roc_curve"
   ]
  },
  {
   "cell_type": "code",
   "execution_count": 12,
   "metadata": {},
   "outputs": [],
   "source": [
    "read = lambda imname: np.array(Image.open(imname).convert('RGB'))\n",
    "benign_label = 1.0\n",
    "malignant_label = 0.0\n",
    "RESIZE = 128\n",
    "test_size = 0.2\n",
    "learning_rate = 3e-4"
   ]
  },
  {
   "cell_type": "code",
   "execution_count": 3,
   "metadata": {},
   "outputs": [
    {
     "name": "stderr",
     "output_type": "stream",
     "text": [
      "100%|██████████| 5/5 [00:00<00:00, 236.08it/s]\n"
     ]
    }
   ],
   "source": [
    "benign_files = []\n",
    "benign_labels = []\n",
    "path = '/Applications/GIAP/hp/BreaKHis_v1/histology_slides/breast/benign/SOB'\n",
    "for TYPE_NAME in tqdm.tqdm(os.listdir(path)):\n",
    "    if TYPE_NAME == '.DS_Store':\n",
    "        continue\n",
    "    FILE_PATH = os.path.join(path, TYPE_NAME)\n",
    "    for SUBFILE_NAME in os.listdir(FILE_PATH):\n",
    "        if SUBFILE_NAME == '.DS_Store':\n",
    "            continue\n",
    "        SUBFILE_PATH = os.path.join(FILE_PATH, SUBFILE_NAME)\n",
    "        for ZOOM_FILE in os.listdir(SUBFILE_PATH):\n",
    "            if ZOOM_FILE == '.DS_Store':\n",
    "                continue\n",
    "            ZOOM_PATH = os.path.join(SUBFILE_PATH, ZOOM_FILE)\n",
    "            for IMAGE_NAME in os.listdir(ZOOM_PATH):\n",
    "                IMAGE_PATH = os.path.join(ZOOM_PATH, IMAGE_NAME)\n",
    "                benign_files.append(IMAGE_PATH)\n",
    "                benign_labels.append(benign_label)"
   ]
  },
  {
   "cell_type": "code",
   "execution_count": 4,
   "metadata": {},
   "outputs": [
    {
     "name": "stderr",
     "output_type": "stream",
     "text": [
      "100%|██████████| 4/4 [00:00<00:00, 111.95it/s]\n"
     ]
    }
   ],
   "source": [
    "malignant_files = []\n",
    "malignant_labels = []\n",
    "path = '/Applications/GIAP/hp/BreaKHis_v1/histology_slides/breast/malignant/SOB'\n",
    "for TYPE_NAME in tqdm.tqdm(os.listdir(path)):\n",
    "    FILE_PATH = os.path.join(path, TYPE_NAME)\n",
    "    for SUBFILE_NAME in os.listdir(FILE_PATH):\n",
    "        SUBFILE_PATH = os.path.join(FILE_PATH, SUBFILE_NAME)\n",
    "        for ZOOM_FILE in os.listdir(SUBFILE_PATH):\n",
    "            ZOOM_PATH = os.path.join(SUBFILE_PATH, ZOOM_FILE)\n",
    "            for IMAGE_NAME in os.listdir(ZOOM_PATH):\n",
    "                IMAGE_PATH = os.path.join(ZOOM_PATH, IMAGE_NAME)\n",
    "                malignant_files.append(IMAGE_PATH)\n",
    "                malignant_labels.append(malignant_label)"
   ]
  },
  {
   "cell_type": "code",
   "execution_count": 5,
   "metadata": {},
   "outputs": [],
   "source": [
    "files = benign_files + malignant_files\n",
    "labels = benign_labels + malignant_labels"
   ]
  },
  {
   "cell_type": "code",
   "execution_count": 13,
   "metadata": {},
   "outputs": [],
   "source": [
    "images = []\n",
    "\n",
    "for file in files:\n",
    "    img = read(file)\n",
    "    img = cv2.resize(img, (RESIZE, RESIZE))\n",
    "    img = img / 255.0\n",
    "    images.append(np.array(img))"
   ]
  },
  {
   "cell_type": "code",
   "execution_count": 14,
   "metadata": {},
   "outputs": [],
   "source": [
    "npimages = np.array(images)\n",
    "nplabels = np.array(labels)\n",
    "\n",
    "shuffle = np.arange(npimages.shape[0])\n",
    "np.random.shuffle(shuffle)\n",
    "x = npimages[shuffle]\n",
    "y = nplabels[shuffle]"
   ]
  },
  {
   "cell_type": "code",
   "execution_count": 15,
   "metadata": {},
   "outputs": [],
   "source": [
    "xtrain, xtest, ytrain, ytest = train_test_split(x, y, test_size=test_size, random_state=0)"
   ]
  },
  {
   "cell_type": "code",
   "execution_count": 56,
   "metadata": {},
   "outputs": [],
   "source": [
    "model = Sequential([\n",
    "    Conv2D(32, (4, 4), strides=(2, 2), padding='same', activation=LeakyReLU(alpha=0.1)),\n",
    "    Conv2D(32, (4, 4), strides=(2, 2), padding='same', activation=LeakyReLU(alpha=0.1)),\n",
    "    MaxPool2D(pool_size=(2, 2), strides=(1, 1)),\n",
    "    BatchNormalization(),\n",
    "    \n",
    "    Flatten(),\n",
    "    Dense(32, activation=LeakyReLU(alpha=0.1), kernel_regularizer=regularizers.L1(0.01)),\n",
    "    Dense(64, activation=LeakyReLU(alpha=0.1), kernel_regularizer=regularizers.L1(0.01)),\n",
    "    Dense(2, activation='softmax')\n",
    "])"
   ]
  },
  {
   "cell_type": "code",
   "execution_count": 57,
   "metadata": {},
   "outputs": [
    {
     "name": "stdout",
     "output_type": "stream",
     "text": [
      "Epoch 1/35\n",
      "198/198 [==============================] - 22s 107ms/step - loss: 9.6712 - accuracy: 0.8105 - val_loss: 2.8013 - val_accuracy: 0.7105\n",
      "Epoch 2/35\n",
      "198/198 [==============================] - 21s 106ms/step - loss: 2.1863 - accuracy: 0.8266 - val_loss: 1.9193 - val_accuracy: 0.7990\n",
      "Epoch 3/35\n",
      "198/198 [==============================] - 21s 104ms/step - loss: 1.5182 - accuracy: 0.8352 - val_loss: 1.2859 - val_accuracy: 0.8508\n",
      "Epoch 4/35\n",
      "198/198 [==============================] - 21s 104ms/step - loss: 1.1210 - accuracy: 0.8347 - val_loss: 1.1265 - val_accuracy: 0.7731\n",
      "Epoch 5/35\n",
      "198/198 [==============================] - 20s 103ms/step - loss: 0.9315 - accuracy: 0.8404 - val_loss: 1.0605 - val_accuracy: 0.7427\n",
      "Epoch 6/35\n",
      "198/198 [==============================] - 20s 103ms/step - loss: 0.8908 - accuracy: 0.8415 - val_loss: 1.0404 - val_accuracy: 0.7724\n",
      "Epoch 7/35\n",
      "198/198 [==============================] - 20s 104ms/step - loss: 0.8695 - accuracy: 0.8415 - val_loss: 0.8780 - val_accuracy: 0.8186\n",
      "Epoch 8/35\n",
      "198/198 [==============================] - 20s 103ms/step - loss: 0.8424 - accuracy: 0.8443 - val_loss: 0.9219 - val_accuracy: 0.8028\n",
      "Epoch 9/35\n",
      "198/198 [==============================] - 21s 104ms/step - loss: 0.8271 - accuracy: 0.8475 - val_loss: 0.9054 - val_accuracy: 0.8047\n",
      "Epoch 10/35\n",
      "198/198 [==============================] - 20s 103ms/step - loss: 0.8262 - accuracy: 0.8448 - val_loss: 0.8089 - val_accuracy: 0.8464\n",
      "Epoch 11/35\n",
      "198/198 [==============================] - 21s 104ms/step - loss: 0.8026 - accuracy: 0.8467 - val_loss: 0.8088 - val_accuracy: 0.8420\n",
      "Epoch 12/35\n",
      "198/198 [==============================] - 21s 104ms/step - loss: 0.8024 - accuracy: 0.8465 - val_loss: 0.7821 - val_accuracy: 0.8470\n",
      "Epoch 13/35\n",
      "198/198 [==============================] - 21s 104ms/step - loss: 0.7889 - accuracy: 0.8484 - val_loss: 1.0134 - val_accuracy: 0.7080\n",
      "Epoch 14/35\n",
      "198/198 [==============================] - 21s 104ms/step - loss: 0.7905 - accuracy: 0.8495 - val_loss: 0.7832 - val_accuracy: 0.8388\n",
      "Epoch 15/35\n",
      "198/198 [==============================] - 21s 104ms/step - loss: 0.8068 - accuracy: 0.8426 - val_loss: 0.9708 - val_accuracy: 0.7377\n",
      "Epoch 16/35\n",
      "198/198 [==============================] - 21s 104ms/step - loss: 0.7901 - accuracy: 0.8457 - val_loss: 0.7895 - val_accuracy: 0.8325\n",
      "Epoch 17/35\n",
      "198/198 [==============================] - 21s 104ms/step - loss: 0.7728 - accuracy: 0.8492 - val_loss: 0.9389 - val_accuracy: 0.7882\n",
      "Epoch 18/35\n",
      "198/198 [==============================] - 21s 106ms/step - loss: 0.7688 - accuracy: 0.8475 - val_loss: 0.7855 - val_accuracy: 0.8350\n",
      "Epoch 19/35\n",
      "198/198 [==============================] - 20s 104ms/step - loss: 0.7743 - accuracy: 0.8522 - val_loss: 0.8866 - val_accuracy: 0.7781\n",
      "Epoch 20/35\n",
      "198/198 [==============================] - 21s 104ms/step - loss: 0.7732 - accuracy: 0.8525 - val_loss: 0.8789 - val_accuracy: 0.8249\n",
      "Epoch 21/35\n",
      "198/198 [==============================] - 21s 104ms/step - loss: 0.7644 - accuracy: 0.8508 - val_loss: 0.7598 - val_accuracy: 0.8496\n",
      "Epoch 22/35\n",
      "198/198 [==============================] - 21s 104ms/step - loss: 0.7565 - accuracy: 0.8557 - val_loss: 0.7578 - val_accuracy: 0.8470\n",
      "Epoch 23/35\n",
      "198/198 [==============================] - 21s 104ms/step - loss: 0.7658 - accuracy: 0.8517 - val_loss: 0.7660 - val_accuracy: 0.8515\n",
      "Epoch 24/35\n",
      "198/198 [==============================] - 21s 104ms/step - loss: 0.7610 - accuracy: 0.8535 - val_loss: 0.7716 - val_accuracy: 0.8540\n",
      "Epoch 25/35\n",
      "198/198 [==============================] - 21s 107ms/step - loss: 0.7581 - accuracy: 0.8578 - val_loss: 0.8158 - val_accuracy: 0.8369\n",
      "Epoch 26/35\n",
      "198/198 [==============================] - 21s 105ms/step - loss: 0.7620 - accuracy: 0.8563 - val_loss: 0.7714 - val_accuracy: 0.8565\n",
      "Epoch 27/35\n",
      "198/198 [==============================] - 21s 105ms/step - loss: 0.7545 - accuracy: 0.8578 - val_loss: 0.8233 - val_accuracy: 0.8426\n",
      "Epoch 28/35\n",
      "198/198 [==============================] - 20s 100ms/step - loss: 0.7729 - accuracy: 0.8513 - val_loss: 0.9136 - val_accuracy: 0.7996\n",
      "Epoch 29/35\n",
      "198/198 [==============================] - 19s 97ms/step - loss: 0.7733 - accuracy: 0.8538 - val_loss: 0.7605 - val_accuracy: 0.8565\n",
      "Epoch 30/35\n",
      "198/198 [==============================] - 19s 97ms/step - loss: 0.7639 - accuracy: 0.8579 - val_loss: 0.7722 - val_accuracy: 0.8432\n",
      "Epoch 31/35\n",
      "198/198 [==============================] - 19s 98ms/step - loss: 0.7541 - accuracy: 0.8614 - val_loss: 0.7530 - val_accuracy: 0.8603\n",
      "Epoch 32/35\n",
      "198/198 [==============================] - 19s 98ms/step - loss: 0.7431 - accuracy: 0.8658 - val_loss: 0.7819 - val_accuracy: 0.8584\n",
      "Epoch 33/35\n",
      "198/198 [==============================] - 19s 98ms/step - loss: 0.7387 - accuracy: 0.8713 - val_loss: 0.7356 - val_accuracy: 0.8654\n",
      "Epoch 34/35\n",
      "198/198 [==============================] - 20s 99ms/step - loss: 0.7550 - accuracy: 0.8644 - val_loss: 0.7847 - val_accuracy: 0.8451\n",
      "Epoch 35/35\n",
      "198/198 [==============================] - 20s 101ms/step - loss: 0.7616 - accuracy: 0.8666 - val_loss: 0.7861 - val_accuracy: 0.8616\n"
     ]
    }
   ],
   "source": [
    "model.compile(loss=keras.losses.SparseCategoricalCrossentropy(from_logits=False), optimizer=Adam(learning_rate=learning_rate), metrics=['accuracy'])\n",
    "history = model.fit(xtrain, ytrain, epochs=35, verbose=1, batch_size=32, validation_data=(xtest, ytest))"
   ]
  },
  {
   "cell_type": "code",
   "execution_count": 58,
   "metadata": {},
   "outputs": [
    {
     "name": "stdout",
     "output_type": "stream",
     "text": [
      "198/198 [==============================] - 4s 17ms/step\n",
      "50/50 [==============================] - 1s 18ms/step\n"
     ]
    }
   ],
   "source": [
    "model_training_result = model.predict(xtrain)\n",
    "model_testing_result = model.predict(xtest)"
   ]
  },
  {
   "cell_type": "code",
   "execution_count": 59,
   "metadata": {},
   "outputs": [],
   "source": [
    "model_training_result = np.array([np.argmax(model_training_result[i]) for i in range(len(model_training_result))])\n",
    "model_testing_result = np.array([np.argmax(model_testing_result[i]) for i in range(len(model_testing_result))])"
   ]
  },
  {
   "cell_type": "code",
   "execution_count": 60,
   "metadata": {},
   "outputs": [],
   "source": [
    "updated_ytrain = np.array([int(outcome) for outcome in ytrain])\n",
    "updated_ytest = np.array([int(outcome) for outcome in ytest])"
   ]
  },
  {
   "cell_type": "code",
   "execution_count": 61,
   "metadata": {},
   "outputs": [
    {
     "name": "stdout",
     "output_type": "stream",
     "text": [
      "              precision    recall  f1-score   support\n",
      "\n",
      "           0       0.90      0.93      0.91      4325\n",
      "           1       0.83      0.77      0.80      2002\n",
      "\n",
      "    accuracy                           0.88      6327\n",
      "   macro avg       0.86      0.85      0.85      6327\n",
      "weighted avg       0.87      0.88      0.88      6327\n",
      "\n"
     ]
    }
   ],
   "source": [
    "print(classification_report(updated_ytrain, model_training_result))"
   ]
  },
  {
   "cell_type": "code",
   "execution_count": 62,
   "metadata": {},
   "outputs": [
    {
     "name": "stdout",
     "output_type": "stream",
     "text": [
      "              precision    recall  f1-score   support\n",
      "\n",
      "           0       0.90      0.90      0.90      1104\n",
      "           1       0.78      0.76      0.77       478\n",
      "\n",
      "    accuracy                           0.86      1582\n",
      "   macro avg       0.84      0.83      0.83      1582\n",
      "weighted avg       0.86      0.86      0.86      1582\n",
      "\n"
     ]
    }
   ],
   "source": [
    "print(classification_report(updated_ytest, model_testing_result))\n"
   ]
  },
  {
   "cell_type": "code",
   "execution_count": 65,
   "metadata": {},
   "outputs": [],
   "source": [
    "model.save('custom_binary_model.h5')"
   ]
  },
  {
   "cell_type": "code",
   "execution_count": 69,
   "metadata": {},
   "outputs": [
    {
     "data": {
      "text/plain": [
       "<AxesSubplot:>"
      ]
     },
     "execution_count": 69,
     "metadata": {},
     "output_type": "execute_result"
    },
    {
     "data": {
      "image/png": "[encoded data removed]",
      "text/plain": [
       "<Figure size 432x288 with 1 Axes>"
      ]
     },
     "metadata": {
      "needs_background": "light"
     },
     "output_type": "display_data"
    }
   ],
   "source": [
    "training_df = pd.DataFrame(history.history)\n",
    "training_df[['accuracy', 'val_accuracy']].plot()"
   ]
  },
  {
   "cell_type": "code",
   "execution_count": 70,
   "metadata": {},
   "outputs": [
    {
     "data": {
      "text/plain": [
       "<AxesSubplot:>"
      ]
     },
     "execution_count": 70,
     "metadata": {},
     "output_type": "execute_result"
    },
    {
     "data": {
      "image/png": "[encoded data removed]",
      "text/plain": [
       "<Figure size 432x288 with 1 Axes>"
      ]
     },
     "metadata": {
      "needs_background": "light"
     },
     "output_type": "display_data"
    }
   ],
   "source": [
    "training_df[['loss', 'val_loss']].plot()"
   ]
  },
  {
   "cell_type": "code",
   "execution_count": 73,
   "metadata": {},
   "outputs": [
    {
     "data": {
      "image/png": "[encoded data removed]",
      "text/plain": [
       "<Figure size 432x288 with 2 Axes>"
      ]
     },
     "metadata": {
      "needs_background": "light"
     },
     "output_type": "display_data"
    }
   ],
   "source": [
    "clabels = ['Benign', 'Melignant']\n",
    "cm = confusion_matrix(updated_ytest, model_testing_result)\n",
    "disp = ConfusionMatrixDisplay(confusion_matrix=cm, display_labels=clabels)\n",
    "disp.plot(cmap=plt.cm.Blues)\n",
    "plt.title('Breats Cancer Classification')\n",
    "plt.show()"
   ]
  },
  {
   "cell_type": "code",
   "execution_count": 75,
   "metadata": {},
   "outputs": [
    {
     "data": {
      "image/png": "[encoded data removed]",
      "text/plain": [
       "<Figure size 432x288 with 1 Axes>"
      ]
     },
     "metadata": {
      "needs_background": "light"
     },
     "output_type": "display_data"
    }
   ],
   "source": [
    "roc_log = roc_auc_score(updated_ytest, model_testing_result)\n",
    "false_positive_rate, true_positive_rate, threshold = roc_curve(updated_ytest, model_testing_result)\n",
    "area_under_curve = auc(false_positive_rate, true_positive_rate)\n",
    "\n",
    "plt.plot([0, 1], [0, 1], 'r--')\n",
    "plt.plot(false_positive_rate, true_positive_rate, label='AUC = {:.3f}'.format(area_under_curve))\n",
    "plt.xlabel('False positive rate')\n",
    "plt.ylabel('True positive rate')\n",
    "plt.title('ROC curve')\n",
    "plt.legend(loc='best')\n",
    "plt.show()\n",
    "plt.close()"
   ]
  }
 ],
 "metadata": {
  "kernelspec": {
   "display_name": "Python 3.10.3 64-bit",
   "language": "python",
   "name": "python3"
  },
  "language_info": {
   "codemirror_mode": {
    "name": "ipython",
    "version": 3
   },
   "file_extension": ".py",
   "mimetype": "text/x-python",
   "name": "python",
   "nbconvert_exporter": "python",
   "pygments_lexer": "ipython3",
   "version": "3.10.3"
  },
  "orig_nbformat": 4,
  "vscode": {
   "interpreter": {
    "hash": "aee8b7b246df8f9039afb4144a1f6fd8d2ca17a180786b69acc140d282b71a49"
   }
  }
 },
 "nbformat": 4,
 "nbformat_minor": 2
}
