{
 "cells": [
  {
   "cell_type": "code",
   "execution_count": 30,
   "metadata": {},
   "outputs": [],
   "source": [
    "import os\n",
    "import numpy as np\n",
    "import tqdm\n",
    "import cv2\n",
    "from PIL import Image\n",
    "import random\n",
    "import tensorflow as tf\n",
    "from tensorflow import keras\n",
    "from keras.layers import Conv2D\n",
    "from keras.layers import BatchNormalization\n",
    "from keras.layers import MaxPool2D\n",
    "from keras.layers import Flatten\n",
    "from keras.layers import Dense\n",
    "from keras.layers import LeakyReLU\n",
    "from keras.layers import Softmax\n",
    "from keras.layers import Dropout\n",
    "from keras import regularizers\n",
    "from keras import Sequential\n",
    "from keras.utils.vis_utils import plot_model\n",
    "from keras.optimizers import Adam\n",
    "from sklearn.preprocessing import scale\n",
    "import pandas as pd\n",
    "from sklearn.model_selection import train_test_split\n",
    "from sklearn.metrics import classification_report, confusion_matrix\n",
    "from keras.callbacks import Callback, ModelCheckpoint, ReduceLROnPlateau, TensorBoard\n",
    "import matplotlib.pyplot as plt\n",
    "from sklearn.metrics import confusion_matrix, ConfusionMatrixDisplay\n",
    "from sklearn.metrics import roc_auc_score, auc\n",
    "from sklearn.metrics import roc_curve"
   ]
  },
  {
   "cell_type": "code",
   "execution_count": 7,
   "metadata": {},
   "outputs": [],
   "source": [
    "read = lambda imname: np.array(Image.open(imname).convert('RGB'))\n",
    "benign_label = 1.0\n",
    "malignant_label = 0.0\n",
    "RESIZE = 128\n",
    "test_size = 0.2\n",
    "learning_rate = 3e-4"
   ]
  },
  {
   "cell_type": "code",
   "execution_count": 8,
   "metadata": {},
   "outputs": [
    {
     "name": "stderr",
     "output_type": "stream",
     "text": [
      "100%|██████████| 5/5 [00:00<00:00, 425.97it/s]\n"
     ]
    }
   ],
   "source": [
    "benign_files = []\n",
    "benign_labels = []\n",
    "path = '/Applications/GIAP/hp/BreaKHis_v1/histology_slides/breast/benign/SOB'\n",
    "for TYPE_NAME in tqdm.tqdm(os.listdir(path)):\n",
    "    if TYPE_NAME == '.DS_Store':\n",
    "        continue\n",
    "    FILE_PATH = os.path.join(path, TYPE_NAME)\n",
    "    for SUBFILE_NAME in os.listdir(FILE_PATH):\n",
    "        if SUBFILE_NAME == '.DS_Store':\n",
    "            continue\n",
    "        SUBFILE_PATH = os.path.join(FILE_PATH, SUBFILE_NAME)\n",
    "        for ZOOM_FILE in os.listdir(SUBFILE_PATH):\n",
    "            if ZOOM_FILE == '.DS_Store':\n",
    "                continue\n",
    "            ZOOM_PATH = os.path.join(SUBFILE_PATH, ZOOM_FILE)\n",
    "            for IMAGE_NAME in os.listdir(ZOOM_PATH):\n",
    "                IMAGE_PATH = os.path.join(ZOOM_PATH, IMAGE_NAME)\n",
    "                benign_files.append(IMAGE_PATH)\n",
    "                benign_labels.append(benign_label)"
   ]
  },
  {
   "cell_type": "code",
   "execution_count": 9,
   "metadata": {},
   "outputs": [
    {
     "name": "stderr",
     "output_type": "stream",
     "text": [
      "100%|██████████| 4/4 [00:00<00:00, 163.02it/s]\n"
     ]
    }
   ],
   "source": [
    "malignant_files = []\n",
    "malignant_labels = []\n",
    "path = '/Applications/GIAP/hp/BreaKHis_v1/histology_slides/breast/malignant/SOB'\n",
    "for TYPE_NAME in tqdm.tqdm(os.listdir(path)):\n",
    "    FILE_PATH = os.path.join(path, TYPE_NAME)\n",
    "    for SUBFILE_NAME in os.listdir(FILE_PATH):\n",
    "        SUBFILE_PATH = os.path.join(FILE_PATH, SUBFILE_NAME)\n",
    "        for ZOOM_FILE in os.listdir(SUBFILE_PATH):\n",
    "            ZOOM_PATH = os.path.join(SUBFILE_PATH, ZOOM_FILE)\n",
    "            for IMAGE_NAME in os.listdir(ZOOM_PATH):\n",
    "                IMAGE_PATH = os.path.join(ZOOM_PATH, IMAGE_NAME)\n",
    "                malignant_files.append(IMAGE_PATH)\n",
    "                malignant_labels.append(malignant_label)"
   ]
  },
  {
   "cell_type": "code",
   "execution_count": 11,
   "metadata": {},
   "outputs": [],
   "source": [
    "files = benign_files + malignant_files\n",
    "labels = benign_labels + malignant_labels"
   ]
  },
  {
   "cell_type": "code",
   "execution_count": 12,
   "metadata": {},
   "outputs": [],
   "source": [
    "images = []\n",
    "\n",
    "for file in files:\n",
    "    img = read(file)\n",
    "    img = cv2.resize(img, (RESIZE, RESIZE))\n",
    "    img = img / 255.0\n",
    "    images.append(np.array(img))"
   ]
  },
  {
   "cell_type": "code",
   "execution_count": 13,
   "metadata": {},
   "outputs": [],
   "source": [
    "npimages = np.array(images)\n",
    "nplabels = np.array(labels)\n",
    "\n",
    "shuffle = np.arange(npimages.shape[0])\n",
    "np.random.shuffle(shuffle)\n",
    "x = npimages[shuffle]\n",
    "y = nplabels[shuffle]"
   ]
  },
  {
   "cell_type": "code",
   "execution_count": 14,
   "metadata": {},
   "outputs": [],
   "source": [
    "xtrain, xtest, ytrain, ytest = train_test_split(x, y, test_size=test_size, random_state=0)"
   ]
  },
  {
   "cell_type": "code",
   "execution_count": 15,
   "metadata": {},
   "outputs": [
    {
     "name": "stderr",
     "output_type": "stream",
     "text": [
      "2022-07-19 23:59:43.508548: I tensorflow/core/platform/cpu_feature_guard.cc:193] This TensorFlow binary is optimized with oneAPI Deep Neural Network Library (oneDNN) to use the following CPU instructions in performance-critical operations:  AVX2 FMA\n",
      "To enable them in other operations, rebuild TensorFlow with the appropriate compiler flags.\n"
     ]
    }
   ],
   "source": [
    "model = Sequential([\n",
    "    Conv2D(32, (4, 4), strides=(2, 2), padding='same', activation=LeakyReLU(alpha=0.1)),\n",
    "    Conv2D(64, (4, 4), strides=(2, 2), padding='same', activation=LeakyReLU(alpha=0.1)),\n",
    "    MaxPool2D(pool_size=(2, 2), strides=(1, 1)),\n",
    "    BatchNormalization(),\n",
    "    \n",
    "    Flatten(),\n",
    "    Dense(32, activation=LeakyReLU(alpha=0.1), kernel_regularizer=regularizers.L1(0.01)),\n",
    "    Dense(64, activation=LeakyReLU(alpha=0.1), kernel_regularizer=regularizers.L1(0.01)),\n",
    "    Dense(2, activation='softmax')\n",
    "])"
   ]
  },
  {
   "cell_type": "code",
   "execution_count": 17,
   "metadata": {},
   "outputs": [
    {
     "name": "stdout",
     "output_type": "stream",
     "text": [
      "Epoch 1/40\n",
      "198/198 [==============================] - 29s 142ms/step - loss: 9.7604 - accuracy: 0.8018 - val_loss: 3.1815 - val_accuracy: 0.8262\n",
      "Epoch 2/40\n",
      "198/198 [==============================] - 27s 136ms/step - loss: 2.5740 - accuracy: 0.8246 - val_loss: 2.2916 - val_accuracy: 0.7535\n",
      "Epoch 3/40\n",
      "198/198 [==============================] - 28s 139ms/step - loss: 1.9020 - accuracy: 0.8293 - val_loss: 1.6880 - val_accuracy: 0.7965\n",
      "Epoch 4/40\n",
      "198/198 [==============================] - 27s 134ms/step - loss: 1.4894 - accuracy: 0.8214 - val_loss: 1.3818 - val_accuracy: 0.8243\n",
      "Epoch 5/40\n",
      "198/198 [==============================] - 28s 141ms/step - loss: 1.2713 - accuracy: 0.8318 - val_loss: 1.4311 - val_accuracy: 0.7402\n",
      "Epoch 6/40\n",
      "198/198 [==============================] - 27s 135ms/step - loss: 1.2234 - accuracy: 0.8344 - val_loss: 1.2115 - val_accuracy: 0.8015\n",
      "Epoch 7/40\n",
      "198/198 [==============================] - 27s 135ms/step - loss: 1.1976 - accuracy: 0.8301 - val_loss: 1.1568 - val_accuracy: 0.8527\n",
      "Epoch 8/40\n",
      "198/198 [==============================] - 27s 134ms/step - loss: 1.1680 - accuracy: 0.8408 - val_loss: 1.1094 - val_accuracy: 0.8534\n",
      "Epoch 9/40\n",
      "198/198 [==============================] - 27s 135ms/step - loss: 1.1611 - accuracy: 0.8375 - val_loss: 1.1931 - val_accuracy: 0.8477\n",
      "Epoch 10/40\n",
      "198/198 [==============================] - 27s 135ms/step - loss: 1.1552 - accuracy: 0.8372 - val_loss: 1.1024 - val_accuracy: 0.8603\n",
      "Epoch 11/40\n",
      "198/198 [==============================] - 27s 134ms/step - loss: 1.1630 - accuracy: 0.8355 - val_loss: 1.1221 - val_accuracy: 0.8578\n",
      "Epoch 12/40\n",
      "198/198 [==============================] - 27s 136ms/step - loss: 1.1618 - accuracy: 0.8424 - val_loss: 1.1291 - val_accuracy: 0.8470\n",
      "Epoch 13/40\n",
      "198/198 [==============================] - 27s 135ms/step - loss: 1.1464 - accuracy: 0.8388 - val_loss: 1.1478 - val_accuracy: 0.8590\n",
      "Epoch 14/40\n",
      "198/198 [==============================] - 27s 135ms/step - loss: 1.1355 - accuracy: 0.8462 - val_loss: 1.2256 - val_accuracy: 0.8123\n",
      "Epoch 15/40\n",
      "198/198 [==============================] - 27s 138ms/step - loss: 1.1515 - accuracy: 0.8462 - val_loss: 1.5220 - val_accuracy: 0.3786\n",
      "Epoch 16/40\n",
      "198/198 [==============================] - 26s 133ms/step - loss: 1.1268 - accuracy: 0.8495 - val_loss: 1.1361 - val_accuracy: 0.8673\n",
      "Epoch 17/40\n",
      "198/198 [==============================] - 27s 135ms/step - loss: 1.1381 - accuracy: 0.8461 - val_loss: 1.2908 - val_accuracy: 0.7762\n",
      "Epoch 18/40\n",
      "198/198 [==============================] - 27s 136ms/step - loss: 1.1241 - accuracy: 0.8478 - val_loss: 1.2727 - val_accuracy: 0.8104\n",
      "Epoch 19/40\n",
      "198/198 [==============================] - 27s 135ms/step - loss: 1.1176 - accuracy: 0.8527 - val_loss: 1.7735 - val_accuracy: 0.3774\n",
      "Epoch 20/40\n",
      "198/198 [==============================] - 27s 137ms/step - loss: 1.1201 - accuracy: 0.8566 - val_loss: 1.0920 - val_accuracy: 0.8666\n",
      "Epoch 21/40\n",
      "198/198 [==============================] - 27s 135ms/step - loss: 1.0950 - accuracy: 0.8587 - val_loss: 1.1295 - val_accuracy: 0.8723\n",
      "Epoch 22/40\n",
      "198/198 [==============================] - 27s 135ms/step - loss: 1.1043 - accuracy: 0.8593 - val_loss: 1.1774 - val_accuracy: 0.8508\n",
      "Epoch 23/40\n",
      "198/198 [==============================] - 27s 135ms/step - loss: 1.0964 - accuracy: 0.8645 - val_loss: 1.1436 - val_accuracy: 0.8521\n",
      "Epoch 24/40\n",
      "198/198 [==============================] - 27s 134ms/step - loss: 1.1121 - accuracy: 0.8581 - val_loss: 1.0885 - val_accuracy: 0.8736\n",
      "Epoch 25/40\n",
      "198/198 [==============================] - 27s 136ms/step - loss: 1.0914 - accuracy: 0.8623 - val_loss: 1.1259 - val_accuracy: 0.8451\n",
      "Epoch 26/40\n",
      "198/198 [==============================] - 27s 136ms/step - loss: 1.0925 - accuracy: 0.8664 - val_loss: 1.0704 - val_accuracy: 0.8799\n",
      "Epoch 27/40\n",
      "198/198 [==============================] - 27s 135ms/step - loss: 1.0872 - accuracy: 0.8645 - val_loss: 1.4249 - val_accuracy: 0.7472\n",
      "Epoch 28/40\n",
      "198/198 [==============================] - 27s 136ms/step - loss: 1.0803 - accuracy: 0.8729 - val_loss: 1.0987 - val_accuracy: 0.8748\n",
      "Epoch 29/40\n",
      "198/198 [==============================] - 27s 136ms/step - loss: 1.0998 - accuracy: 0.8683 - val_loss: 1.1842 - val_accuracy: 0.8451\n",
      "Epoch 30/40\n",
      "198/198 [==============================] - 27s 135ms/step - loss: 1.0772 - accuracy: 0.8772 - val_loss: 1.0757 - val_accuracy: 0.8717\n",
      "Epoch 31/40\n",
      "198/198 [==============================] - 27s 135ms/step - loss: 1.0716 - accuracy: 0.8796 - val_loss: 1.0753 - val_accuracy: 0.8786\n",
      "Epoch 32/40\n",
      "198/198 [==============================] - 27s 135ms/step - loss: 1.0818 - accuracy: 0.8737 - val_loss: 1.0803 - val_accuracy: 0.8906\n",
      "Epoch 33/40\n",
      "198/198 [==============================] - 27s 135ms/step - loss: 1.0705 - accuracy: 0.8834 - val_loss: 1.0490 - val_accuracy: 0.8869\n",
      "Epoch 34/40\n",
      "198/198 [==============================] - 27s 136ms/step - loss: 1.0807 - accuracy: 0.8840 - val_loss: 1.1894 - val_accuracy: 0.8375\n",
      "Epoch 35/40\n",
      "198/198 [==============================] - 27s 136ms/step - loss: 1.0761 - accuracy: 0.8829 - val_loss: 1.1621 - val_accuracy: 0.8464\n",
      "Epoch 36/40\n",
      "198/198 [==============================] - 27s 135ms/step - loss: 1.0732 - accuracy: 0.8881 - val_loss: 1.1079 - val_accuracy: 0.8742\n",
      "Epoch 37/40\n",
      "198/198 [==============================] - 27s 137ms/step - loss: 1.0708 - accuracy: 0.8886 - val_loss: 1.1597 - val_accuracy: 0.8489\n",
      "Epoch 38/40\n",
      "198/198 [==============================] - 27s 134ms/step - loss: 1.0696 - accuracy: 0.8854 - val_loss: 1.1019 - val_accuracy: 0.8850\n",
      "Epoch 39/40\n",
      "198/198 [==============================] - 26s 133ms/step - loss: 1.0625 - accuracy: 0.8976 - val_loss: 1.3589 - val_accuracy: 0.7408\n",
      "Epoch 40/40\n",
      "198/198 [==============================] - 26s 132ms/step - loss: 1.0605 - accuracy: 0.8939 - val_loss: 1.0771 - val_accuracy: 0.8824\n"
     ]
    }
   ],
   "source": [
    "model.compile(loss=keras.losses.SparseCategoricalCrossentropy(from_logits=False), optimizer=Adam(learning_rate=learning_rate), metrics=['accuracy'])\n",
    "history = model.fit(xtrain, ytrain, epochs=40, verbose=1, batch_size=32, validation_data=(xtest, ytest))"
   ]
  },
  {
   "cell_type": "code",
   "execution_count": 18,
   "metadata": {},
   "outputs": [
    {
     "name": "stdout",
     "output_type": "stream",
     "text": [
      "198/198 [==============================] - 5s 26ms/step\n",
      "50/50 [==============================] - 1s 25ms/step\n"
     ]
    }
   ],
   "source": [
    "model_training_result = model.predict(xtrain)\n",
    "model_testing_result = model.predict(xtest)"
   ]
  },
  {
   "cell_type": "code",
   "execution_count": 19,
   "metadata": {},
   "outputs": [],
   "source": [
    "model_training_result = np.array([np.argmax(model_training_result[i]) for i in range(len(model_training_result))])\n",
    "model_testing_result = np.array([np.argmax(model_testing_result[i]) for i in range(len(model_testing_result))])"
   ]
  },
  {
   "cell_type": "code",
   "execution_count": 20,
   "metadata": {},
   "outputs": [],
   "source": [
    "updated_ytrain = np.array([int(outcome) for outcome in ytrain])\n",
    "updated_ytest = np.array([int(outcome) for outcome in ytest])"
   ]
  },
  {
   "cell_type": "code",
   "execution_count": 21,
   "metadata": {},
   "outputs": [
    {
     "name": "stdout",
     "output_type": "stream",
     "text": [
      "              precision    recall  f1-score   support\n",
      "\n",
      "           0       0.95      0.93      0.94      4317\n",
      "           1       0.85      0.89      0.87      2010\n",
      "\n",
      "    accuracy                           0.91      6327\n",
      "   macro avg       0.90      0.91      0.90      6327\n",
      "weighted avg       0.92      0.91      0.91      6327\n",
      "\n"
     ]
    }
   ],
   "source": [
    "print(classification_report(updated_ytrain, model_training_result))"
   ]
  },
  {
   "cell_type": "code",
   "execution_count": 22,
   "metadata": {},
   "outputs": [
    {
     "name": "stdout",
     "output_type": "stream",
     "text": [
      "              precision    recall  f1-score   support\n",
      "\n",
      "           0       0.92      0.91      0.92      1112\n",
      "           1       0.79      0.83      0.81       470\n",
      "\n",
      "    accuracy                           0.88      1582\n",
      "   macro avg       0.86      0.87      0.86      1582\n",
      "weighted avg       0.88      0.88      0.88      1582\n",
      "\n"
     ]
    }
   ],
   "source": [
    "print(classification_report(updated_ytest, model_testing_result))\n"
   ]
  },
  {
   "cell_type": "code",
   "execution_count": 23,
   "metadata": {},
   "outputs": [
    {
     "name": "stdout",
     "output_type": "stream",
     "text": [
      "Model: \"sequential\"\n",
      "_________________________________________________________________\n",
      " Layer (type)                Output Shape              Param #   \n",
      "=================================================================\n",
      " conv2d (Conv2D)             (None, 64, 64, 32)        1568      \n",
      "                                                                 \n",
      " conv2d_1 (Conv2D)           (None, 32, 32, 64)        32832     \n",
      "                                                                 \n",
      " max_pooling2d (MaxPooling2D  (None, 31, 31, 64)       0         \n",
      " )                                                               \n",
      "                                                                 \n",
      " batch_normalization (BatchN  (None, 31, 31, 64)       256       \n",
      " ormalization)                                                   \n",
      "                                                                 \n",
      " flatten (Flatten)           (None, 61504)             0         \n",
      "                                                                 \n",
      " dense (Dense)               (None, 32)                1968160   \n",
      "                                                                 \n",
      " dense_1 (Dense)             (None, 64)                2112      \n",
      "                                                                 \n",
      " dense_2 (Dense)             (None, 2)                 130       \n",
      "                                                                 \n",
      "=================================================================\n",
      "Total params: 2,005,058\n",
      "Trainable params: 2,004,930\n",
      "Non-trainable params: 128\n",
      "_________________________________________________________________\n"
     ]
    }
   ],
   "source": [
    "model.summary()"
   ]
  },
  {
   "cell_type": "code",
   "execution_count": 34,
   "metadata": {},
   "outputs": [
    {
     "name": "stdout",
     "output_type": "stream",
     "text": [
      "You must install pydot (`pip install pydot`) and install graphviz (see instructions at https://graphviz.gitlab.io/download/) for plot_model/model_to_dot to work.\n"
     ]
    }
   ],
   "source": [
    "plot_model(model, to_file='custom_binary_model.png', show_shapes=True, show_layer_names=True)"
   ]
  },
  {
   "cell_type": "code",
   "execution_count": 31,
   "metadata": {},
   "outputs": [],
   "source": [
    "model.save('custom_binary_model_updated.h5')"
   ]
  },
  {
   "cell_type": "code",
   "execution_count": 25,
   "metadata": {},
   "outputs": [
    {
     "data": {
      "text/plain": [
       "<AxesSubplot:>"
      ]
     },
     "execution_count": 25,
     "metadata": {},
     "output_type": "execute_result"
    },
    {
     "data": {
      "image/png": "[encoded data removed]",
      "text/plain": [
       "<Figure size 432x288 with 1 Axes>"
      ]
     },
     "metadata": {
      "needs_background": "light"
     },
     "output_type": "display_data"
    }
   ],
   "source": [
    "training_df = pd.DataFrame(history.history)\n",
    "training_df[['accuracy', 'val_accuracy']].plot()"
   ]
  },
  {
   "cell_type": "code",
   "execution_count": 26,
   "metadata": {},
   "outputs": [
    {
     "data": {
      "text/plain": [
       "<AxesSubplot:>"
      ]
     },
     "execution_count": 26,
     "metadata": {},
     "output_type": "execute_result"
    },
    {
     "data": {
      "image/png": "[encoded data removed]",
      "text/plain": [
       "<Figure size 432x288 with 1 Axes>"
      ]
     },
     "metadata": {
      "needs_background": "light"
     },
     "output_type": "display_data"
    }
   ],
   "source": [
    "training_df[['loss', 'val_loss']].plot()"
   ]
  },
  {
   "cell_type": "code",
   "execution_count": 27,
   "metadata": {},
   "outputs": [
    {
     "data": {
      "image/png": "[encoded data removed]",
      "text/plain": [
       "<Figure size 432x288 with 2 Axes>"
      ]
     },
     "metadata": {
      "needs_background": "light"
     },
     "output_type": "display_data"
    }
   ],
   "source": [
    "clabels = ['Benign', 'Melignant']\n",
    "cm = confusion_matrix(updated_ytest, model_testing_result)\n",
    "disp = ConfusionMatrixDisplay(confusion_matrix=cm, display_labels=clabels)\n",
    "disp.plot(cmap=plt.cm.Blues)\n",
    "plt.title('Breats Cancer Classification')\n",
    "plt.show()"
   ]
  },
  {
   "cell_type": "code",
   "execution_count": 29,
   "metadata": {},
   "outputs": [
    {
     "data": {
      "image/png": "[encoded data removed]",
      "text/plain": [
       "<Figure size 432x288 with 1 Axes>"
      ]
     },
     "metadata": {
      "needs_background": "light"
     },
     "output_type": "display_data"
    }
   ],
   "source": [
    "roc_log = roc_auc_score(updated_ytest, model_testing_result)\n",
    "false_positive_rate, true_positive_rate, threshold = roc_curve(updated_ytest, model_testing_result)\n",
    "area_under_curve = auc(false_positive_rate, true_positive_rate)\n",
    "\n",
    "plt.plot([0, 1], [0, 1], 'r--')\n",
    "plt.plot(false_positive_rate, true_positive_rate, label='AUC = {:.3f}'.format(area_under_curve))\n",
    "plt.xlabel('False positive rate')\n",
    "plt.ylabel('True positive rate')\n",
    "plt.title('ROC curve')\n",
    "plt.legend(loc='best')\n",
    "plt.show()\n",
    "plt.close()"
   ]
  }
 ],
 "metadata": {
  "kernelspec": {
   "display_name": "Python 3.10.3 64-bit",
   "language": "python",
   "name": "python3"
  },
  "language_info": {
   "codemirror_mode": {
    "name": "ipython",
    "version": 3
   },
   "file_extension": ".py",
   "mimetype": "text/x-python",
   "name": "python",
   "nbconvert_exporter": "python",
   "pygments_lexer": "ipython3",
   "version": "3.10.3"
  },
  "orig_nbformat": 4,
  "vscode": {
   "interpreter": {
    "hash": "aee8b7b246df8f9039afb4144a1f6fd8d2ca17a180786b69acc140d282b71a49"
   }
  }
 },
 "nbformat": 4,
 "nbformat_minor": 2
}
