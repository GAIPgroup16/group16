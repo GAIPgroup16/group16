{
 "cells": [
  {
   "cell_type": "code",
   "execution_count": 38,
   "metadata": {},
   "outputs": [],
   "source": [
    "import os\n",
    "import numpy as np\n",
    "import tqdm\n",
    "import cv2\n",
    "from PIL import Image\n",
    "import random\n",
    "import tensorflow as tf\n",
    "from tensorflow import keras\n",
    "from keras.layers import Conv2D\n",
    "from keras.layers import BatchNormalization\n",
    "from keras.layers import MaxPool2D\n",
    "from keras.layers import Flatten\n",
    "from keras.layers import Dense\n",
    "from keras.layers import LeakyReLU\n",
    "from keras.layers import Softmax\n",
    "from keras import Sequential\n",
    "from sklearn.preprocessing import scale\n",
    "import pandas as pd\n",
    "from sklearn.model_selection import train_test_split"
   ]
  },
  {
   "cell_type": "code",
   "execution_count": 22,
   "metadata": {},
   "outputs": [],
   "source": [
    "read = lambda imname: np.array(Image.open(imname).convert('L'))"
   ]
  },
  {
   "cell_type": "code",
   "execution_count": 27,
   "metadata": {},
   "outputs": [
    {
     "name": "stderr",
     "output_type": "stream",
     "text": [
      "100%|██████████| 4/4 [00:00<00:00, 348.00it/s]\n"
     ]
    }
   ],
   "source": [
    "benign_files = []\n",
    "benign_labels = []\n",
    "path = '/Applications/GIAP/hp/BreaKHis_v1/histology_slides/breast/benign/SOB'\n",
    "for TYPE_NAME in tqdm.tqdm(os.listdir(path)):\n",
    "    FILE_PATH = os.path.join(path, TYPE_NAME)\n",
    "    for SUBFILE_NAME in os.listdir(FILE_PATH):\n",
    "        SUBFILE_PATH = os.path.join(FILE_PATH, SUBFILE_NAME)\n",
    "        for ZOOM_FILE in os.listdir(SUBFILE_PATH):\n",
    "            ZOOM_PATH = os.path.join(SUBFILE_PATH, ZOOM_FILE)\n",
    "            for IMAGE_NAME in os.listdir(ZOOM_PATH):\n",
    "                IMAGE_PATH = os.path.join(ZOOM_PATH, IMAGE_NAME)\n",
    "                benign_files.append(IMAGE_PATH)\n",
    "                benign_labels.append('benign')"
   ]
  },
  {
   "cell_type": "code",
   "execution_count": 24,
   "metadata": {},
   "outputs": [
    {
     "name": "stderr",
     "output_type": "stream",
     "text": [
      "100%|██████████| 4/4 [00:00<00:00, 148.19it/s]\n"
     ]
    }
   ],
   "source": [
    "malignant_files = []\n",
    "malignant_labels = []\n",
    "path = '/Applications/GIAP/hp/BreaKHis_v1/histology_slides/breast/malignant/SOB'\n",
    "for TYPE_NAME in tqdm.tqdm(os.listdir(path)):\n",
    "    FILE_PATH = os.path.join(path, TYPE_NAME)\n",
    "    for SUBFILE_NAME in os.listdir(FILE_PATH):\n",
    "        SUBFILE_PATH = os.path.join(FILE_PATH, SUBFILE_NAME)\n",
    "        for ZOOM_FILE in os.listdir(SUBFILE_PATH):\n",
    "            ZOOM_PATH = os.path.join(SUBFILE_PATH, ZOOM_FILE)\n",
    "            for IMAGE_NAME in os.listdir(ZOOM_PATH):\n",
    "                IMAGE_PATH = os.path.join(ZOOM_PATH, IMAGE_NAME)\n",
    "                malignant_files.append(IMAGE_PATH)\n",
    "                malignant_labels.append('malignant')"
   ]
  },
  {
   "cell_type": "code",
   "execution_count": 97,
   "metadata": {},
   "outputs": [],
   "source": [
    "files = benign_files + malignant_files\n",
    "labels = benign_labels + malignant_labels\n",
    "\n",
    "data = {'File': files, 'Label': labels}\n",
    "df = pd.DataFrame(data)\n",
    "df = df.sample(frac=1)"
   ]
  },
  {
   "cell_type": "code",
   "execution_count": 115,
   "metadata": {},
   "outputs": [
    {
     "data": {
      "text/html": [
       "<div>\n",
       "<style scoped>\n",
       "    .dataframe tbody tr th:only-of-type {\n",
       "        vertical-align: middle;\n",
       "    }\n",
       "\n",
       "    .dataframe tbody tr th {\n",
       "        vertical-align: top;\n",
       "    }\n",
       "\n",
       "    .dataframe thead th {\n",
       "        text-align: right;\n",
       "    }\n",
       "</style>\n",
       "<table border=\"1\" class=\"dataframe\">\n",
       "  <thead>\n",
       "    <tr style=\"text-align: right;\">\n",
       "      <th></th>\n",
       "      <th>Label</th>\n",
       "      <th>Images</th>\n",
       "    </tr>\n",
       "  </thead>\n",
       "  <tbody>\n",
       "    <tr>\n",
       "      <th>3237</th>\n",
       "      <td>malignant</td>\n",
       "      <td>[[163, 158, 160, 160, 155, 165, 175, 167, 160,...</td>\n",
       "    </tr>\n",
       "    <tr>\n",
       "      <th>4000</th>\n",
       "      <td>malignant</td>\n",
       "      <td>[[161, 163, 182, 193, 163, 153, 163, 173, 165,...</td>\n",
       "    </tr>\n",
       "    <tr>\n",
       "      <th>585</th>\n",
       "      <td>benign</td>\n",
       "      <td>[[151, 119, 117, 120, 137, 179, 179, 155, 152,...</td>\n",
       "    </tr>\n",
       "    <tr>\n",
       "      <th>5975</th>\n",
       "      <td>malignant</td>\n",
       "      <td>[[195, 170, 125, 152, 158, 157, 149, 166, 164,...</td>\n",
       "    </tr>\n",
       "    <tr>\n",
       "      <th>3919</th>\n",
       "      <td>malignant</td>\n",
       "      <td>[[205, 203, 200, 204, 204, 202, 202, 204, 156,...</td>\n",
       "    </tr>\n",
       "    <tr>\n",
       "      <th>...</th>\n",
       "      <td>...</td>\n",
       "      <td>...</td>\n",
       "    </tr>\n",
       "    <tr>\n",
       "      <th>841</th>\n",
       "      <td>benign</td>\n",
       "      <td>[[192, 181, 183, 194, 196, 199, 202, 212, 203,...</td>\n",
       "    </tr>\n",
       "    <tr>\n",
       "      <th>962</th>\n",
       "      <td>benign</td>\n",
       "      <td>[[193, 198, 213, 223, 219, 218, 213, 211, 221,...</td>\n",
       "    </tr>\n",
       "    <tr>\n",
       "      <th>5131</th>\n",
       "      <td>malignant</td>\n",
       "      <td>[[204, 208, 208, 204, 194, 141, 137, 148, 158,...</td>\n",
       "    </tr>\n",
       "    <tr>\n",
       "      <th>5681</th>\n",
       "      <td>malignant</td>\n",
       "      <td>[[192, 188, 160, 148, 195, 233, 233, 231, 193,...</td>\n",
       "    </tr>\n",
       "    <tr>\n",
       "      <th>5763</th>\n",
       "      <td>malignant</td>\n",
       "      <td>[[175, 167, 157, 159, 164, 170, 181, 176, 166,...</td>\n",
       "    </tr>\n",
       "  </tbody>\n",
       "</table>\n",
       "<p>7909 rows × 2 columns</p>\n",
       "</div>"
      ],
      "text/plain": [
       "          Label                                             Images\n",
       "3237  malignant  [[163, 158, 160, 160, 155, 165, 175, 167, 160,...\n",
       "4000  malignant  [[161, 163, 182, 193, 163, 153, 163, 173, 165,...\n",
       "585      benign  [[151, 119, 117, 120, 137, 179, 179, 155, 152,...\n",
       "5975  malignant  [[195, 170, 125, 152, 158, 157, 149, 166, 164,...\n",
       "3919  malignant  [[205, 203, 200, 204, 204, 202, 202, 204, 156,...\n",
       "...         ...                                                ...\n",
       "841      benign  [[192, 181, 183, 194, 196, 199, 202, 212, 203,...\n",
       "962      benign  [[193, 198, 213, 223, 219, 218, 213, 211, 221,...\n",
       "5131  malignant  [[204, 208, 208, 204, 194, 141, 137, 148, 158,...\n",
       "5681  malignant  [[192, 188, 160, 148, 195, 233, 233, 231, 193,...\n",
       "5763  malignant  [[175, 167, 157, 159, 164, 170, 181, 176, 166,...\n",
       "\n",
       "[7909 rows x 2 columns]"
      ]
     },
     "execution_count": 115,
     "metadata": {},
     "output_type": "execute_result"
    }
   ],
   "source": [
    "df"
   ]
  },
  {
   "cell_type": "code",
   "execution_count": 98,
   "metadata": {},
   "outputs": [],
   "source": [
    "x = df['File'].values\n",
    "y = df['Label'].values\n",
    "\n",
    "def transform(file, array):\n",
    "    img = read(file)\n",
    "    img = cv2.resize(img, (256, 256))\n",
    "    array.append(img)\n",
    "\n",
    "images = []\n",
    "for file in x:\n",
    "    transform(file, images)"
   ]
  },
  {
   "cell_type": "code",
   "execution_count": 99,
   "metadata": {},
   "outputs": [],
   "source": [
    "df['Images'] = images"
   ]
  },
  {
   "cell_type": "code",
   "execution_count": 100,
   "metadata": {},
   "outputs": [],
   "source": [
    "df = df.drop('File', axis=1)"
   ]
  },
  {
   "cell_type": "code",
   "execution_count": 103,
   "metadata": {},
   "outputs": [],
   "source": [
    "x = df['Images'].values\n",
    "y = df['Label'].values\n",
    "xtrain, xtest, ytrain, ytest = train_test_split(x, y, test_size=0.2, random_state=0)"
   ]
  },
  {
   "cell_type": "code",
   "execution_count": 105,
   "metadata": {},
   "outputs": [],
   "source": [
    "model = Sequential([\n",
    "    Conv2D(32, (4, 4), strides=(2, 2), padding='same'),\n",
    "    Conv2D(64, (4, 4), strides=(2, 2), padding='same'),\n",
    "    MaxPool2D(pool_size=(2, 2), strides=(1, 1)),\n",
    "    BatchNormalization(),\n",
    "    LeakyReLU(alpha=0.1),\n",
    "    \n",
    "    Flatten(),\n",
    "    Dense(32, activation=LeakyReLU(alpha=0.1)),\n",
    "    Dense(64, activation=LeakyReLU(alpha=0.1)),\n",
    "    Dense(2, activation='sigmoid')\n",
    "])"
   ]
  },
  {
   "cell_type": "code",
   "execution_count": 109,
   "metadata": {},
   "outputs": [
    {
     "ename": "ValueError",
     "evalue": "Failed to convert a NumPy array to a Tensor (Unsupported object type numpy.ndarray).",
     "output_type": "error",
     "traceback": [
      "\u001b[0;31m---------------------------------------------------------------------------\u001b[0m",
      "\u001b[0;31mValueError\u001b[0m                                Traceback (most recent call last)",
      "\u001b[1;32m/Applications/GIAP/hp/project.ipynb Cell 12\u001b[0m in \u001b[0;36m<cell line: 2>\u001b[0;34m()\u001b[0m\n\u001b[1;32m      <a href='vscode-notebook-cell:/Applications/GIAP/hp/project.ipynb#ch0000017?line=0'>1</a>\u001b[0m model\u001b[39m.\u001b[39mcompile(loss\u001b[39m=\u001b[39m\u001b[39m'\u001b[39m\u001b[39mspare_categorical_crossentropy\u001b[39m\u001b[39m'\u001b[39m, optimizer\u001b[39m=\u001b[39m\u001b[39m'\u001b[39m\u001b[39madam\u001b[39m\u001b[39m'\u001b[39m)\n\u001b[0;32m----> <a href='vscode-notebook-cell:/Applications/GIAP/hp/project.ipynb#ch0000017?line=1'>2</a>\u001b[0m model\u001b[39m.\u001b[39;49mfit(xtrain, ytrain, epochs\u001b[39m=\u001b[39;49m\u001b[39m50\u001b[39;49m, batch_size\u001b[39m=\u001b[39;49m\u001b[39m64\u001b[39;49m)\n",
      "File \u001b[0;32m/Library/Frameworks/Python.framework/Versions/3.10/lib/python3.10/site-packages/keras/utils/traceback_utils.py:67\u001b[0m, in \u001b[0;36mfilter_traceback.<locals>.error_handler\u001b[0;34m(*args, **kwargs)\u001b[0m\n\u001b[1;32m     65\u001b[0m \u001b[39mexcept\u001b[39;00m \u001b[39mException\u001b[39;00m \u001b[39mas\u001b[39;00m e:  \u001b[39m# pylint: disable=broad-except\u001b[39;00m\n\u001b[1;32m     66\u001b[0m   filtered_tb \u001b[39m=\u001b[39m _process_traceback_frames(e\u001b[39m.\u001b[39m__traceback__)\n\u001b[0;32m---> 67\u001b[0m   \u001b[39mraise\u001b[39;00m e\u001b[39m.\u001b[39mwith_traceback(filtered_tb) \u001b[39mfrom\u001b[39;00m \u001b[39mNone\u001b[39m\n\u001b[1;32m     68\u001b[0m \u001b[39mfinally\u001b[39;00m:\n\u001b[1;32m     69\u001b[0m   \u001b[39mdel\u001b[39;00m filtered_tb\n",
      "File \u001b[0;32m/Library/Frameworks/Python.framework/Versions/3.10/lib/python3.10/site-packages/tensorflow/python/framework/constant_op.py:102\u001b[0m, in \u001b[0;36mconvert_to_eager_tensor\u001b[0;34m(value, ctx, dtype)\u001b[0m\n\u001b[1;32m    100\u001b[0m     dtype \u001b[39m=\u001b[39m dtypes\u001b[39m.\u001b[39mas_dtype(dtype)\u001b[39m.\u001b[39mas_datatype_enum\n\u001b[1;32m    101\u001b[0m ctx\u001b[39m.\u001b[39mensure_initialized()\n\u001b[0;32m--> 102\u001b[0m \u001b[39mreturn\u001b[39;00m ops\u001b[39m.\u001b[39;49mEagerTensor(value, ctx\u001b[39m.\u001b[39;49mdevice_name, dtype)\n",
      "\u001b[0;31mValueError\u001b[0m: Failed to convert a NumPy array to a Tensor (Unsupported object type numpy.ndarray)."
     ]
    }
   ],
   "source": [
    "model.compile(loss='spare_categorical_crossentropy', optimizer='adam')\n",
    "model.fit(xtrain, ytrain, epochs=50, batch_size=64)"
   ]
  }
 ],
 "metadata": {
  "kernelspec": {
   "display_name": "Python 3.10.3 64-bit",
   "language": "python",
   "name": "python3"
  },
  "language_info": {
   "codemirror_mode": {
    "name": "ipython",
    "version": 3
   },
   "file_extension": ".py",
   "mimetype": "text/x-python",
   "name": "python",
   "nbconvert_exporter": "python",
   "pygments_lexer": "ipython3",
   "version": "3.10.3"
  },
  "orig_nbformat": 4,
  "vscode": {
   "interpreter": {
    "hash": "aee8b7b246df8f9039afb4144a1f6fd8d2ca17a180786b69acc140d282b71a49"
   }
  }
 },
 "nbformat": 4,
 "nbformat_minor": 2
}
