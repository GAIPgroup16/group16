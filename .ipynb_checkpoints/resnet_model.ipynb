{
 "cells": [
  {
   "cell_type": "code",
   "execution_count": 25,
   "metadata": {},
   "outputs": [],
   "source": [
    "import os\n",
    "import numpy as np\n",
    "import tqdm\n",
    "import cv2\n",
    "from PIL import Image\n",
    "import random\n",
    "import tensorflow as tf\n",
    "from tensorflow import keras\n",
    "from keras.layers import Conv2D\n",
    "from keras.layers import BatchNormalization\n",
    "from keras.layers import MaxPool2D\n",
    "from keras.layers import Flatten\n",
    "from keras.layers import Dense\n",
    "from keras.layers import LeakyReLU\n",
    "from keras.layers import Softmax\n",
    "from keras.layers import Dropout\n",
    "from keras import regularizers\n",
    "from keras import Sequential\n",
    "from keras.utils.vis_utils import plot_model\n",
    "from keras.optimizers import Adam\n",
    "from keras.applications import ResNet50\n",
    "from sklearn.preprocessing import scale\n",
    "import pandas as pd\n",
    "from sklearn.model_selection import train_test_split\n",
    "from sklearn.metrics import classification_report, confusion_matrix\n",
    "from keras.callbacks import Callback, ModelCheckpoint, ReduceLROnPlateau, TensorBoard\n",
    "import matplotlib.pyplot as plt\n",
    "from sklearn.metrics import confusion_matrix, ConfusionMatrixDisplay\n",
    "from sklearn.metrics import roc_auc_score, auc\n",
    "from sklearn.metrics import roc_curve"
   ]
  },
  {
   "cell_type": "code",
   "execution_count": 7,
   "metadata": {},
   "outputs": [],
   "source": [
    "read = lambda imname: np.array(Image.open(imname).convert('RGB'))\n",
    "benign_label = 1.0\n",
    "malignant_label = 0.0\n",
    "RESIZE = 128\n",
    "test_size = 0.2\n",
    "learning_rate = 1e-4"
   ]
  },
  {
   "cell_type": "code",
   "execution_count": 3,
   "metadata": {},
   "outputs": [
    {
     "name": "stderr",
     "output_type": "stream",
     "text": [
      "100%|██████████| 5/5 [00:00<00:00, 93.50it/s]\n"
     ]
    }
   ],
   "source": [
    "benign_files = []\n",
    "benign_labels = []\n",
    "path = '/Applications/GIAP/hp/BreaKHis_v1/histology_slides/breast/benign/SOB'\n",
    "for TYPE_NAME in tqdm.tqdm(os.listdir(path)):\n",
    "    if TYPE_NAME == '.DS_Store':\n",
    "        continue\n",
    "    FILE_PATH = os.path.join(path, TYPE_NAME)\n",
    "    for SUBFILE_NAME in os.listdir(FILE_PATH):\n",
    "        if SUBFILE_NAME == '.DS_Store':\n",
    "            continue\n",
    "        SUBFILE_PATH = os.path.join(FILE_PATH, SUBFILE_NAME)\n",
    "        for ZOOM_FILE in os.listdir(SUBFILE_PATH):\n",
    "            if ZOOM_FILE == '.DS_Store':\n",
    "                continue\n",
    "            ZOOM_PATH = os.path.join(SUBFILE_PATH, ZOOM_FILE)\n",
    "            for IMAGE_NAME in os.listdir(ZOOM_PATH):\n",
    "                IMAGE_PATH = os.path.join(ZOOM_PATH, IMAGE_NAME)\n",
    "                benign_files.append(IMAGE_PATH)\n",
    "                benign_labels.append(benign_label)"
   ]
  },
  {
   "cell_type": "code",
   "execution_count": 4,
   "metadata": {},
   "outputs": [
    {
     "name": "stderr",
     "output_type": "stream",
     "text": [
      "100%|██████████| 4/4 [00:00<00:00, 66.09it/s]\n"
     ]
    }
   ],
   "source": [
    "malignant_files = []\n",
    "malignant_labels = []\n",
    "path = '/Applications/GIAP/hp/BreaKHis_v1/histology_slides/breast/malignant/SOB'\n",
    "for TYPE_NAME in tqdm.tqdm(os.listdir(path)):\n",
    "    FILE_PATH = os.path.join(path, TYPE_NAME)\n",
    "    for SUBFILE_NAME in os.listdir(FILE_PATH):\n",
    "        SUBFILE_PATH = os.path.join(FILE_PATH, SUBFILE_NAME)\n",
    "        for ZOOM_FILE in os.listdir(SUBFILE_PATH):\n",
    "            ZOOM_PATH = os.path.join(SUBFILE_PATH, ZOOM_FILE)\n",
    "            for IMAGE_NAME in os.listdir(ZOOM_PATH):\n",
    "                IMAGE_PATH = os.path.join(ZOOM_PATH, IMAGE_NAME)\n",
    "                malignant_files.append(IMAGE_PATH)\n",
    "                malignant_labels.append(malignant_label)"
   ]
  },
  {
   "cell_type": "code",
   "execution_count": 5,
   "metadata": {},
   "outputs": [],
   "source": [
    "files = benign_files + malignant_files\n",
    "labels = benign_labels + malignant_labels"
   ]
  },
  {
   "cell_type": "code",
   "execution_count": 6,
   "metadata": {},
   "outputs": [],
   "source": [
    "images = []\n",
    "\n",
    "for file in files:\n",
    "    img = read(file)\n",
    "    img = cv2.resize(img, (RESIZE, RESIZE))\n",
    "    img = img / 255.0\n",
    "    images.append(np.array(img))"
   ]
  },
  {
   "cell_type": "code",
   "execution_count": 8,
   "metadata": {},
   "outputs": [],
   "source": [
    "npimages = np.array(images)\n",
    "nplabels = np.array(labels)\n",
    "\n",
    "shuffle = np.arange(npimages.shape[0])\n",
    "np.random.shuffle(shuffle)\n",
    "x = npimages[shuffle]\n",
    "y = nplabels[shuffle]"
   ]
  },
  {
   "cell_type": "code",
   "execution_count": 9,
   "metadata": {},
   "outputs": [],
   "source": [
    "xtrain, xtest, ytrain, ytest = train_test_split(x, y, test_size=test_size, random_state=0)"
   ]
  },
  {
   "cell_type": "code",
   "execution_count": 10,
   "metadata": {},
   "outputs": [
    {
     "name": "stderr",
     "output_type": "stream",
     "text": [
      "2022-07-19 22:00:57.863615: I tensorflow/core/platform/cpu_feature_guard.cc:193] This TensorFlow binary is optimized with oneAPI Deep Neural Network Library (oneDNN) to use the following CPU instructions in performance-critical operations:  AVX2 FMA\n",
      "To enable them in other operations, rebuild TensorFlow with the appropriate compiler flags.\n"
     ]
    },
    {
     "name": "stdout",
     "output_type": "stream",
     "text": [
      "Downloading data from https://storage.googleapis.com/tensorflow/keras-applications/resnet/resnet50_weights_tf_dim_ordering_tf_kernels_notop.h5\n",
      "94765736/94765736 [==============================] - 12s 0us/step\n"
     ]
    }
   ],
   "source": [
    "resnet_model = Sequential()\n",
    "\n",
    "pretrained_model = keras.applications.ResNet50(\n",
    "    include_top=False, \n",
    "    input_shape=(128, 128, 3),\n",
    "    pooling='avg', \n",
    "    classes=2,\n",
    "    weights='imagenet'\n",
    ")\n",
    "\n",
    "for layer in pretrained_model.layers:\n",
    "    layer.trainable = False\n",
    "\n",
    "resnet_model.add(pretrained_model)\n",
    "resnet_model.add(Flatten())\n",
    "resnet_model.add(Dense(512, activation='relu'))\n",
    "resnet_model.add(Dense(2, activation='softmax'))"
   ]
  },
  {
   "cell_type": "code",
   "execution_count": 11,
   "metadata": {},
   "outputs": [
    {
     "name": "stdout",
     "output_type": "stream",
     "text": [
      "Model: \"sequential\"\n",
      "_________________________________________________________________\n",
      " Layer (type)                Output Shape              Param #   \n",
      "=================================================================\n",
      " resnet50 (Functional)       (None, 2048)              23587712  \n",
      "                                                                 \n",
      " flatten (Flatten)           (None, 2048)              0         \n",
      "                                                                 \n",
      " dense (Dense)               (None, 512)               1049088   \n",
      "                                                                 \n",
      " dense_1 (Dense)             (None, 2)                 1026      \n",
      "                                                                 \n",
      "=================================================================\n",
      "Total params: 24,637,826\n",
      "Trainable params: 1,050,114\n",
      "Non-trainable params: 23,587,712\n",
      "_________________________________________________________________\n"
     ]
    }
   ],
   "source": [
    "resnet_model.summary()"
   ]
  },
  {
   "cell_type": "code",
   "execution_count": 12,
   "metadata": {},
   "outputs": [
    {
     "name": "stderr",
     "output_type": "stream",
     "text": [
      "/Library/Frameworks/Python.framework/Versions/3.10/lib/python3.10/site-packages/keras/optimizers/optimizer_v2/adam.py:110: UserWarning: The `lr` argument is deprecated, use `learning_rate` instead.\n",
      "  super(Adam, self).__init__(name, **kwargs)\n"
     ]
    }
   ],
   "source": [
    "resnet_model.compile(optimizer=Adam(lr=0.001), loss=keras.losses.SparseCategoricalCrossentropy(from_logits=False), metrics=['accuracy'])"
   ]
  },
  {
   "cell_type": "code",
   "execution_count": 13,
   "metadata": {},
   "outputs": [
    {
     "name": "stdout",
     "output_type": "stream",
     "text": [
      "Epoch 1/40\n",
      "198/198 [==============================] - 159s 789ms/step - loss: 0.6336 - accuracy: 0.6777 - val_loss: 0.6234 - val_accuracy: 0.6884\n",
      "Epoch 2/40\n",
      "198/198 [==============================] - 155s 782ms/step - loss: 0.6197 - accuracy: 0.6814 - val_loss: 0.6446 - val_accuracy: 0.6884\n",
      "Epoch 3/40\n",
      "198/198 [==============================] - 153s 775ms/step - loss: 0.6170 - accuracy: 0.6818 - val_loss: 0.5991 - val_accuracy: 0.6884\n",
      "Epoch 4/40\n",
      "198/198 [==============================] - 154s 779ms/step - loss: 0.6078 - accuracy: 0.6866 - val_loss: 0.6265 - val_accuracy: 0.7080\n",
      "Epoch 5/40\n",
      "198/198 [==============================] - 154s 777ms/step - loss: 0.6023 - accuracy: 0.6885 - val_loss: 0.5906 - val_accuracy: 0.6884\n",
      "Epoch 6/40\n",
      "198/198 [==============================] - 155s 786ms/step - loss: 0.6012 - accuracy: 0.6886 - val_loss: 0.5955 - val_accuracy: 0.7048\n",
      "Epoch 7/40\n",
      "198/198 [==============================] - 154s 781ms/step - loss: 0.6026 - accuracy: 0.6807 - val_loss: 0.5852 - val_accuracy: 0.6896\n",
      "Epoch 8/40\n",
      "198/198 [==============================] - 154s 780ms/step - loss: 0.5963 - accuracy: 0.6902 - val_loss: 0.6012 - val_accuracy: 0.6884\n",
      "Epoch 9/40\n",
      "198/198 [==============================] - 154s 779ms/step - loss: 0.5933 - accuracy: 0.6939 - val_loss: 0.5830 - val_accuracy: 0.6903\n",
      "Epoch 10/40\n",
      "198/198 [==============================] - 154s 781ms/step - loss: 0.5946 - accuracy: 0.6923 - val_loss: 0.5734 - val_accuracy: 0.6947\n",
      "Epoch 11/40\n",
      "198/198 [==============================] - 154s 778ms/step - loss: 0.5925 - accuracy: 0.6901 - val_loss: 0.5832 - val_accuracy: 0.6903\n",
      "Epoch 12/40\n",
      "198/198 [==============================] - 154s 777ms/step - loss: 0.5896 - accuracy: 0.6920 - val_loss: 0.5717 - val_accuracy: 0.6922\n",
      "Epoch 13/40\n",
      "198/198 [==============================] - 154s 779ms/step - loss: 0.5879 - accuracy: 0.6943 - val_loss: 0.5781 - val_accuracy: 0.7187\n",
      "Epoch 14/40\n",
      "198/198 [==============================] - 154s 779ms/step - loss: 0.5763 - accuracy: 0.6989 - val_loss: 0.5803 - val_accuracy: 0.6922\n",
      "Epoch 15/40\n",
      "198/198 [==============================] - 154s 777ms/step - loss: 0.5758 - accuracy: 0.6964 - val_loss: 0.5636 - val_accuracy: 0.7035\n",
      "Epoch 16/40\n",
      "198/198 [==============================] - 154s 781ms/step - loss: 0.5799 - accuracy: 0.6980 - val_loss: 0.5671 - val_accuracy: 0.7193\n",
      "Epoch 17/40\n",
      "198/198 [==============================] - 154s 780ms/step - loss: 0.5769 - accuracy: 0.6945 - val_loss: 0.5646 - val_accuracy: 0.7238\n",
      "Epoch 18/40\n",
      "198/198 [==============================] - 154s 779ms/step - loss: 0.5805 - accuracy: 0.6929 - val_loss: 0.5655 - val_accuracy: 0.7231\n",
      "Epoch 19/40\n",
      "198/198 [==============================] - 154s 779ms/step - loss: 0.5736 - accuracy: 0.7008 - val_loss: 0.5965 - val_accuracy: 0.6909\n",
      "Epoch 20/40\n",
      "198/198 [==============================] - 154s 778ms/step - loss: 0.5708 - accuracy: 0.7032 - val_loss: 0.5694 - val_accuracy: 0.7187\n",
      "Epoch 21/40\n",
      "198/198 [==============================] - 155s 782ms/step - loss: 0.5695 - accuracy: 0.7038 - val_loss: 0.5609 - val_accuracy: 0.6972\n",
      "Epoch 22/40\n",
      "198/198 [==============================] - 154s 778ms/step - loss: 0.5572 - accuracy: 0.7157 - val_loss: 0.5756 - val_accuracy: 0.7029\n",
      "Epoch 23/40\n",
      "198/198 [==============================] - 154s 779ms/step - loss: 0.5615 - accuracy: 0.7112 - val_loss: 0.5613 - val_accuracy: 0.7029\n",
      "Epoch 24/40\n",
      "198/198 [==============================] - 154s 779ms/step - loss: 0.5535 - accuracy: 0.7131 - val_loss: 0.5441 - val_accuracy: 0.7314\n",
      "Epoch 25/40\n",
      "198/198 [==============================] - 153s 775ms/step - loss: 0.5761 - accuracy: 0.7005 - val_loss: 0.5671 - val_accuracy: 0.6915\n",
      "Epoch 26/40\n",
      "198/198 [==============================] - 152s 768ms/step - loss: 0.5534 - accuracy: 0.7139 - val_loss: 0.5432 - val_accuracy: 0.7244\n",
      "Epoch 27/40\n",
      "198/198 [==============================] - 152s 771ms/step - loss: 0.5545 - accuracy: 0.7158 - val_loss: 0.5470 - val_accuracy: 0.7168\n",
      "Epoch 28/40\n",
      "198/198 [==============================] - 152s 770ms/step - loss: 0.5497 - accuracy: 0.7183 - val_loss: 0.5587 - val_accuracy: 0.7187\n",
      "Epoch 29/40\n",
      "198/198 [==============================] - 153s 771ms/step - loss: 0.5647 - accuracy: 0.7049 - val_loss: 0.5448 - val_accuracy: 0.7314\n",
      "Epoch 30/40\n",
      "198/198 [==============================] - 153s 773ms/step - loss: 0.5528 - accuracy: 0.7172 - val_loss: 0.5489 - val_accuracy: 0.7124\n",
      "Epoch 31/40\n",
      "198/198 [==============================] - 156s 791ms/step - loss: 0.5482 - accuracy: 0.7165 - val_loss: 0.5590 - val_accuracy: 0.7143\n",
      "Epoch 32/40\n",
      "198/198 [==============================] - 159s 802ms/step - loss: 0.5465 - accuracy: 0.7223 - val_loss: 0.5953 - val_accuracy: 0.6934\n",
      "Epoch 33/40\n",
      "198/198 [==============================] - 152s 768ms/step - loss: 0.5505 - accuracy: 0.7130 - val_loss: 0.5355 - val_accuracy: 0.7320\n",
      "Epoch 34/40\n",
      "198/198 [==============================] - 148s 748ms/step - loss: 0.5570 - accuracy: 0.7120 - val_loss: 0.5834 - val_accuracy: 0.7073\n",
      "Epoch 35/40\n",
      "198/198 [==============================] - 145s 735ms/step - loss: 0.5460 - accuracy: 0.7236 - val_loss: 0.5331 - val_accuracy: 0.7358\n",
      "Epoch 36/40\n",
      "198/198 [==============================] - 147s 743ms/step - loss: 0.5414 - accuracy: 0.7232 - val_loss: 0.5436 - val_accuracy: 0.7351\n",
      "Epoch 37/40\n",
      "198/198 [==============================] - 150s 758ms/step - loss: 0.5401 - accuracy: 0.7256 - val_loss: 0.5369 - val_accuracy: 0.7402\n",
      "Epoch 38/40\n",
      "198/198 [==============================] - 150s 758ms/step - loss: 0.5453 - accuracy: 0.7171 - val_loss: 0.5655 - val_accuracy: 0.7143\n",
      "Epoch 39/40\n",
      "198/198 [==============================] - 149s 755ms/step - loss: 0.5493 - accuracy: 0.7188 - val_loss: 0.5742 - val_accuracy: 0.7137\n",
      "Epoch 40/40\n",
      "198/198 [==============================] - 159s 803ms/step - loss: 0.5449 - accuracy: 0.7182 - val_loss: 0.5386 - val_accuracy: 0.7212\n"
     ]
    }
   ],
   "source": [
    "history = resnet_model.fit(xtrain, ytrain, epochs=40, verbose=1, validation_data=(xtest, ytest))"
   ]
  },
  {
   "cell_type": "code",
   "execution_count": 15,
   "metadata": {},
   "outputs": [
    {
     "name": "stdout",
     "output_type": "stream",
     "text": [
      "198/198 [==============================] - 124s 617ms/step\n",
      "50/50 [==============================] - 29s 572ms/step\n"
     ]
    }
   ],
   "source": [
    "training_result = resnet_model.predict(xtrain)\n",
    "testing_result = resnet_model.predict(xtest)"
   ]
  },
  {
   "cell_type": "code",
   "execution_count": 16,
   "metadata": {},
   "outputs": [],
   "source": [
    "training_result = np.array([np.argmax(training_result[i]) for i in range(len(training_result))])\n",
    "testing_result = np.array([np.argmax(testing_result[i]) for i in range(len(testing_result))])"
   ]
  },
  {
   "cell_type": "code",
   "execution_count": 17,
   "metadata": {},
   "outputs": [],
   "source": [
    "updated_ytrain = np.array([int(outcome) for outcome in ytrain])\n",
    "updated_ytest = np.array([int(outcome) for outcome in ytest])"
   ]
  },
  {
   "cell_type": "code",
   "execution_count": 18,
   "metadata": {},
   "outputs": [
    {
     "name": "stdout",
     "output_type": "stream",
     "text": [
      "              precision    recall  f1-score   support\n",
      "\n",
      "           0       0.71      0.98      0.82      4340\n",
      "           1       0.75      0.14      0.23      1987\n",
      "\n",
      "    accuracy                           0.71      6327\n",
      "   macro avg       0.73      0.56      0.53      6327\n",
      "weighted avg       0.72      0.71      0.64      6327\n",
      "\n"
     ]
    }
   ],
   "source": [
    "print(classification_report(updated_ytrain, training_result))"
   ]
  },
  {
   "cell_type": "code",
   "execution_count": 19,
   "metadata": {},
   "outputs": [
    {
     "name": "stdout",
     "output_type": "stream",
     "text": [
      "              precision    recall  f1-score   support\n",
      "\n",
      "           0       0.72      0.98      0.83      1089\n",
      "           1       0.80      0.14      0.24       493\n",
      "\n",
      "    accuracy                           0.72      1582\n",
      "   macro avg       0.76      0.56      0.54      1582\n",
      "weighted avg       0.74      0.72      0.65      1582\n",
      "\n"
     ]
    }
   ],
   "source": [
    "print(classification_report(updated_ytest, testing_result))"
   ]
  },
  {
   "cell_type": "code",
   "execution_count": 20,
   "metadata": {},
   "outputs": [],
   "source": [
    "resnet_model.save('resnet_model.h5')"
   ]
  },
  {
   "cell_type": "code",
   "execution_count": 21,
   "metadata": {},
   "outputs": [
    {
     "data": {
      "text/plain": [
       "<AxesSubplot:>"
      ]
     },
     "execution_count": 21,
     "metadata": {},
     "output_type": "execute_result"
    },
    {
     "data": {
      "image/png": "[encoded data removed]",
      "text/plain": [
       "<Figure size 432x288 with 1 Axes>"
      ]
     },
     "metadata": {
      "needs_background": "light"
     },
     "output_type": "display_data"
    }
   ],
   "source": [
    "training_df = pd.DataFrame(history.history)\n",
    "training_df[['accuracy', 'val_accuracy']].plot()"
   ]
  },
  {
   "cell_type": "code",
   "execution_count": 22,
   "metadata": {},
   "outputs": [
    {
     "data": {
      "text/plain": [
       "<AxesSubplot:>"
      ]
     },
     "execution_count": 22,
     "metadata": {},
     "output_type": "execute_result"
    },
    {
     "data": {
      "image/png": "[encoded data removed]",
      "text/plain": [
       "<Figure size 432x288 with 1 Axes>"
      ]
     },
     "metadata": {
      "needs_background": "light"
     },
     "output_type": "display_data"
    }
   ],
   "source": [
    "training_df[['loss', 'val_loss']].plot()"
   ]
  },
  {
   "cell_type": "code",
   "execution_count": 27,
   "metadata": {},
   "outputs": [
    {
     "data": {
      "image/png": "[encoded data removed]",
      "text/plain": [
       "<Figure size 432x288 with 2 Axes>"
      ]
     },
     "metadata": {
      "needs_background": "light"
     },
     "output_type": "display_data"
    }
   ],
   "source": [
    "clabels = ['Benign', 'Melignant']\n",
    "cm = confusion_matrix(updated_ytest, testing_result)\n",
    "disp = ConfusionMatrixDisplay(confusion_matrix=cm, display_labels=clabels)\n",
    "disp.plot(cmap=plt.cm.Blues)\n",
    "plt.title('Breats Cancer Classification')\n",
    "plt.show()"
   ]
  },
  {
   "cell_type": "code",
   "execution_count": 28,
   "metadata": {},
   "outputs": [
    {
     "data": {
      "image/png": "[encoded data removed]",
      "text/plain": [
       "<Figure size 432x288 with 1 Axes>"
      ]
     },
     "metadata": {
      "needs_background": "light"
     },
     "output_type": "display_data"
    }
   ],
   "source": [
    "roc_log = roc_auc_score(updated_ytest, testing_result)\n",
    "false_positive_rate, true_positive_rate, threshold = roc_curve(updated_ytest, testing_result)\n",
    "area_under_curve = auc(false_positive_rate, true_positive_rate)\n",
    "\n",
    "plt.plot([0, 1], [0, 1], 'r--')\n",
    "plt.plot(false_positive_rate, true_positive_rate, label='AUC = {:.3f}'.format(area_under_curve))\n",
    "plt.xlabel('False positive rate')\n",
    "plt.ylabel('True positive rate')\n",
    "plt.title('ROC curve')\n",
    "plt.legend(loc='best')\n",
    "plt.show()\n",
    "plt.close()"
   ]
  }
 ],
 "metadata": {
  "kernelspec": {
   "display_name": "Python 3.10.3 64-bit",
   "language": "python",
   "name": "python3"
  },
  "language_info": {
   "codemirror_mode": {
    "name": "ipython",
    "version": 3
   },
   "file_extension": ".py",
   "mimetype": "text/x-python",
   "name": "python",
   "nbconvert_exporter": "python",
   "pygments_lexer": "ipython3",
   "version": "3.10.3"
  },
  "orig_nbformat": 4,
  "vscode": {
   "interpreter": {
    "hash": "aee8b7b246df8f9039afb4144a1f6fd8d2ca17a180786b69acc140d282b71a49"
   }
  }
 },
 "nbformat": 4,
 "nbformat_minor": 2
}
