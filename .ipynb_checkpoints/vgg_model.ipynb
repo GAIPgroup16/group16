{
 "cells": [
  {
   "cell_type": "code",
   "execution_count": 2,
   "metadata": {},
   "outputs": [],
   "source": [
    "import os\n",
    "import numpy as np\n",
    "import tqdm\n",
    "import cv2\n",
    "from PIL import Image\n",
    "import random\n",
    "import tensorflow as tf\n",
    "from tensorflow import keras\n",
    "from keras.layers import Conv2D\n",
    "from keras.layers import BatchNormalization\n",
    "from keras.layers import MaxPool2D\n",
    "from keras.layers import Flatten\n",
    "from keras.layers import Dense\n",
    "from keras.layers import LeakyReLU\n",
    "from keras.layers import Softmax\n",
    "from keras.layers import Dropout\n",
    "from keras import regularizers\n",
    "from keras import Sequential\n",
    "from keras.utils.vis_utils import plot_model\n",
    "from keras.applications import VGG16\n",
    "from keras.optimizers import Adam\n",
    "from sklearn.preprocessing import scale\n",
    "import pandas as pd\n",
    "from sklearn.model_selection import train_test_split\n",
    "from sklearn.metrics import classification_report, confusion_matrix\n",
    "from keras.callbacks import Callback, ModelCheckpoint, ReduceLROnPlateau, TensorBoard\n",
    "import matplotlib.pyplot as plt\n",
    "from sklearn.metrics import confusion_matrix, ConfusionMatrixDisplay\n",
    "from sklearn.metrics import roc_auc_score, auc\n",
    "from sklearn.metrics import roc_curve"
   ]
  },
  {
   "cell_type": "code",
   "execution_count": 3,
   "metadata": {},
   "outputs": [],
   "source": [
    "read = lambda imname: np.array(Image.open(imname).convert('RGB'))\n",
    "benign_label = 1.0\n",
    "malignant_label = 0.0\n",
    "RESIZE = 128\n",
    "test_size = 0.2\n",
    "learning_rate = 3e-4"
   ]
  },
  {
   "cell_type": "code",
   "execution_count": 4,
   "metadata": {},
   "outputs": [
    {
     "name": "stderr",
     "output_type": "stream",
     "text": [
      "100%|██████████| 5/5 [00:00<00:00, 133.24it/s]\n"
     ]
    }
   ],
   "source": [
    "benign_files = []\n",
    "benign_labels = []\n",
    "path = '/Applications/GIAP/hp/BreaKHis_v1/histology_slides/breast/benign/SOB'\n",
    "for TYPE_NAME in tqdm.tqdm(os.listdir(path)):\n",
    "    if TYPE_NAME == '.DS_Store':\n",
    "        continue\n",
    "    FILE_PATH = os.path.join(path, TYPE_NAME)\n",
    "    for SUBFILE_NAME in os.listdir(FILE_PATH):\n",
    "        if SUBFILE_NAME == '.DS_Store':\n",
    "            continue\n",
    "        SUBFILE_PATH = os.path.join(FILE_PATH, SUBFILE_NAME)\n",
    "        for ZOOM_FILE in os.listdir(SUBFILE_PATH):\n",
    "            if ZOOM_FILE == '.DS_Store':\n",
    "                continue\n",
    "            ZOOM_PATH = os.path.join(SUBFILE_PATH, ZOOM_FILE)\n",
    "            for IMAGE_NAME in os.listdir(ZOOM_PATH):\n",
    "                IMAGE_PATH = os.path.join(ZOOM_PATH, IMAGE_NAME)\n",
    "                benign_files.append(IMAGE_PATH)\n",
    "                benign_labels.append(benign_label)"
   ]
  },
  {
   "cell_type": "code",
   "execution_count": 5,
   "metadata": {},
   "outputs": [
    {
     "name": "stderr",
     "output_type": "stream",
     "text": [
      "100%|██████████| 4/4 [00:00<00:00, 70.60it/s]\n"
     ]
    }
   ],
   "source": [
    "malignant_files = []\n",
    "malignant_labels = []\n",
    "path = '/Applications/GIAP/hp/BreaKHis_v1/histology_slides/breast/malignant/SOB'\n",
    "for TYPE_NAME in tqdm.tqdm(os.listdir(path)):\n",
    "    FILE_PATH = os.path.join(path, TYPE_NAME)\n",
    "    for SUBFILE_NAME in os.listdir(FILE_PATH):\n",
    "        SUBFILE_PATH = os.path.join(FILE_PATH, SUBFILE_NAME)\n",
    "        for ZOOM_FILE in os.listdir(SUBFILE_PATH):\n",
    "            ZOOM_PATH = os.path.join(SUBFILE_PATH, ZOOM_FILE)\n",
    "            for IMAGE_NAME in os.listdir(ZOOM_PATH):\n",
    "                IMAGE_PATH = os.path.join(ZOOM_PATH, IMAGE_NAME)\n",
    "                malignant_files.append(IMAGE_PATH)\n",
    "                malignant_labels.append(malignant_label)"
   ]
  },
  {
   "cell_type": "code",
   "execution_count": 6,
   "metadata": {},
   "outputs": [],
   "source": [
    "files = benign_files + malignant_files\n",
    "labels = benign_labels + malignant_labels"
   ]
  },
  {
   "cell_type": "code",
   "execution_count": 7,
   "metadata": {},
   "outputs": [],
   "source": [
    "images = []\n",
    "\n",
    "for file in files:\n",
    "    img = read(file)\n",
    "    img = cv2.resize(img, (RESIZE, RESIZE))\n",
    "    img = img / 255.0\n",
    "    images.append(np.array(img))"
   ]
  },
  {
   "cell_type": "code",
   "execution_count": 8,
   "metadata": {},
   "outputs": [],
   "source": [
    "npimages = np.array(images)\n",
    "nplabels = np.array(labels)\n",
    "\n",
    "shuffle = np.arange(npimages.shape[0])\n",
    "np.random.shuffle(shuffle)\n",
    "x = npimages[shuffle]\n",
    "y = nplabels[shuffle]"
   ]
  },
  {
   "cell_type": "code",
   "execution_count": 9,
   "metadata": {},
   "outputs": [],
   "source": [
    "xtrain, xtest, ytrain, ytest = train_test_split(x, y, test_size=test_size, random_state=0)"
   ]
  },
  {
   "cell_type": "code",
   "execution_count": 10,
   "metadata": {},
   "outputs": [
    {
     "name": "stderr",
     "output_type": "stream",
     "text": [
      "2022-07-20 09:09:22.563381: I tensorflow/core/platform/cpu_feature_guard.cc:193] This TensorFlow binary is optimized with oneAPI Deep Neural Network Library (oneDNN) to use the following CPU instructions in performance-critical operations:  AVX2 FMA\n",
      "To enable them in other operations, rebuild TensorFlow with the appropriate compiler flags.\n"
     ]
    }
   ],
   "source": [
    "vgg16 = VGG16(input_shape = (128, 128, 3),\n",
    "include_top = False, \n",
    "weights = 'imagenet')"
   ]
  },
  {
   "cell_type": "code",
   "execution_count": 11,
   "metadata": {},
   "outputs": [],
   "source": [
    "model=Sequential()\n",
    "model.add(vgg16)\n",
    "model.add(Flatten())\n",
    "model.add(Dense(units=32,activation=\"relu\"))\n",
    "model.add(Dense(units=64,activation=\"relu\"))\n",
    "model.add(Dense(units=2, activation=\"softmax\"))"
   ]
  },
  {
   "cell_type": "code",
   "execution_count": 12,
   "metadata": {},
   "outputs": [
    {
     "name": "stdout",
     "output_type": "stream",
     "text": [
      "Model: \"sequential\"\n",
      "_________________________________________________________________\n",
      " Layer (type)                Output Shape              Param #   \n",
      "=================================================================\n",
      " vgg16 (Functional)          (None, 4, 4, 512)         14714688  \n",
      "                                                                 \n",
      " flatten (Flatten)           (None, 8192)              0         \n",
      "                                                                 \n",
      " dense (Dense)               (None, 32)                262176    \n",
      "                                                                 \n",
      " dense_1 (Dense)             (None, 64)                2112      \n",
      "                                                                 \n",
      " dense_2 (Dense)             (None, 2)                 130       \n",
      "                                                                 \n",
      "=================================================================\n",
      "Total params: 14,979,106\n",
      "Trainable params: 14,979,106\n",
      "Non-trainable params: 0\n",
      "_________________________________________________________________\n"
     ]
    }
   ],
   "source": [
    "model.summary()"
   ]
  },
  {
   "cell_type": "code",
   "execution_count": 13,
   "metadata": {},
   "outputs": [],
   "source": [
    "model.compile(\n",
    "  loss=keras.losses.SparseCategoricalCrossentropy(from_logits=False),\n",
    "  optimizer=Adam(learning_rate=learning_rate),\n",
    "  metrics=['accuracy']\n",
    ")"
   ]
  },
  {
   "cell_type": "code",
   "execution_count": 14,
   "metadata": {},
   "outputs": [
    {
     "name": "stdout",
     "output_type": "stream",
     "text": [
      "Epoch 1/22\n",
      "198/198 [==============================] - 774s 4s/step - loss: 0.5213 - accuracy: 0.7678 - val_loss: 0.4637 - val_accuracy: 0.8211\n",
      "Epoch 2/22\n",
      "198/198 [==============================] - 731s 4s/step - loss: 0.4232 - accuracy: 0.8396 - val_loss: 0.4099 - val_accuracy: 0.8483\n",
      "Epoch 3/22\n",
      "198/198 [==============================] - 731s 4s/step - loss: 0.3983 - accuracy: 0.8540 - val_loss: 0.4356 - val_accuracy: 0.8249\n",
      "Epoch 4/22\n",
      "198/198 [==============================] - 827s 4s/step - loss: 0.3756 - accuracy: 0.8649 - val_loss: 0.3941 - val_accuracy: 0.8755\n",
      "Epoch 5/22\n",
      "198/198 [==============================] - 918s 5s/step - loss: 0.3588 - accuracy: 0.8715 - val_loss: 0.3730 - val_accuracy: 0.8477\n",
      "Epoch 6/22\n",
      "198/198 [==============================] - 862s 4s/step - loss: 0.3737 - accuracy: 0.8612 - val_loss: 0.3868 - val_accuracy: 0.8692\n",
      "Epoch 7/22\n",
      "198/198 [==============================] - 804s 4s/step - loss: 0.3580 - accuracy: 0.8664 - val_loss: 0.3422 - val_accuracy: 0.8831\n",
      "Epoch 8/22\n",
      "198/198 [==============================] - 725s 4s/step - loss: 0.3305 - accuracy: 0.8860 - val_loss: 0.3427 - val_accuracy: 0.8609\n",
      "Epoch 9/22\n",
      "198/198 [==============================] - 723s 4s/step - loss: 0.3098 - accuracy: 0.8944 - val_loss: 0.3883 - val_accuracy: 0.8597\n",
      "Epoch 10/22\n",
      "198/198 [==============================] - 721s 4s/step - loss: 0.3041 - accuracy: 0.8911 - val_loss: 0.3261 - val_accuracy: 0.8710\n",
      "Epoch 11/22\n",
      "198/198 [==============================] - 715s 4s/step - loss: 0.2855 - accuracy: 0.8968 - val_loss: 0.2854 - val_accuracy: 0.8951\n",
      "Epoch 12/22\n",
      "198/198 [==============================] - 715s 4s/step - loss: 0.2747 - accuracy: 0.8957 - val_loss: 0.2769 - val_accuracy: 0.9014\n",
      "Epoch 13/22\n",
      "198/198 [==============================] - 718s 4s/step - loss: 0.2745 - accuracy: 0.8993 - val_loss: 0.2777 - val_accuracy: 0.8963\n",
      "Epoch 14/22\n",
      "198/198 [==============================] - 731s 4s/step - loss: 0.2545 - accuracy: 0.9015 - val_loss: 0.3082 - val_accuracy: 0.8793\n",
      "Epoch 15/22\n",
      "198/198 [==============================] - 729s 4s/step - loss: 0.2448 - accuracy: 0.9074 - val_loss: 0.2636 - val_accuracy: 0.8995\n",
      "Epoch 16/22\n",
      "198/198 [==============================] - 732s 4s/step - loss: 0.2392 - accuracy: 0.9098 - val_loss: 0.2939 - val_accuracy: 0.9008\n",
      "Epoch 17/22\n",
      "198/198 [==============================] - 722s 4s/step - loss: 0.2097 - accuracy: 0.9177 - val_loss: 0.2088 - val_accuracy: 0.9159\n",
      "Epoch 18/22\n",
      "198/198 [==============================] - 703s 4s/step - loss: 0.2103 - accuracy: 0.9184 - val_loss: 0.2445 - val_accuracy: 0.9159\n",
      "Epoch 19/22\n",
      "198/198 [==============================] - 716s 4s/step - loss: 0.1975 - accuracy: 0.9259 - val_loss: 0.2246 - val_accuracy: 0.9172\n",
      "Epoch 20/22\n",
      "198/198 [==============================] - 735s 4s/step - loss: 0.1792 - accuracy: 0.9316 - val_loss: 0.2317 - val_accuracy: 0.9096\n",
      "Epoch 21/22\n",
      "198/198 [==============================] - 739s 4s/step - loss: 0.1620 - accuracy: 0.9398 - val_loss: 0.2405 - val_accuracy: 0.9121\n",
      "Epoch 22/22\n",
      "198/198 [==============================] - 783s 4s/step - loss: 0.1655 - accuracy: 0.9415 - val_loss: 0.2071 - val_accuracy: 0.9260\n"
     ]
    }
   ],
   "source": [
    "history = model.fit(xtrain, ytrain, epochs=22, verbose=1, validation_data=(xtest, ytest))"
   ]
  },
  {
   "cell_type": "code",
   "execution_count": 15,
   "metadata": {},
   "outputs": [
    {
     "name": "stdout",
     "output_type": "stream",
     "text": [
      "198/198 [==============================] - 177s 893ms/step\n",
      "50/50 [==============================] - 43s 863ms/step\n"
     ]
    }
   ],
   "source": [
    "model_training_result = model.predict(xtrain)\n",
    "model_testing_result = model.predict(xtest)"
   ]
  },
  {
   "cell_type": "code",
   "execution_count": 16,
   "metadata": {},
   "outputs": [],
   "source": [
    "model_training_result = np.array([np.argmax(model_training_result[i]) for i in range(len(model_training_result))])\n",
    "model_testing_result = np.array([np.argmax(model_testing_result[i]) for i in range(len(model_testing_result))])"
   ]
  },
  {
   "cell_type": "code",
   "execution_count": 17,
   "metadata": {},
   "outputs": [],
   "source": [
    "updated_ytrain = np.array([int(outcome) for outcome in ytrain])\n",
    "updated_ytest = np.array([int(outcome) for outcome in ytest])"
   ]
  },
  {
   "cell_type": "code",
   "execution_count": 18,
   "metadata": {},
   "outputs": [
    {
     "name": "stdout",
     "output_type": "stream",
     "text": [
      "              precision    recall  f1-score   support\n",
      "\n",
      "           0       0.95      0.99      0.97      4350\n",
      "           1       0.98      0.89      0.93      1977\n",
      "\n",
      "    accuracy                           0.96      6327\n",
      "   macro avg       0.96      0.94      0.95      6327\n",
      "weighted avg       0.96      0.96      0.96      6327\n",
      "\n"
     ]
    }
   ],
   "source": [
    "print(classification_report(updated_ytrain, model_training_result))"
   ]
  },
  {
   "cell_type": "code",
   "execution_count": 19,
   "metadata": {},
   "outputs": [
    {
     "name": "stdout",
     "output_type": "stream",
     "text": [
      "              precision    recall  f1-score   support\n",
      "\n",
      "           0       0.92      0.97      0.95      1079\n",
      "           1       0.94      0.82      0.88       503\n",
      "\n",
      "    accuracy                           0.93      1582\n",
      "   macro avg       0.93      0.90      0.91      1582\n",
      "weighted avg       0.93      0.93      0.92      1582\n",
      "\n"
     ]
    }
   ],
   "source": [
    "print(classification_report(updated_ytest, model_testing_result))"
   ]
  },
  {
   "cell_type": "code",
   "execution_count": 20,
   "metadata": {},
   "outputs": [
    {
     "name": "stdout",
     "output_type": "stream",
     "text": [
      "Model: \"sequential\"\n",
      "_________________________________________________________________\n",
      " Layer (type)                Output Shape              Param #   \n",
      "=================================================================\n",
      " vgg16 (Functional)          (None, 4, 4, 512)         14714688  \n",
      "                                                                 \n",
      " flatten (Flatten)           (None, 8192)              0         \n",
      "                                                                 \n",
      " dense (Dense)               (None, 32)                262176    \n",
      "                                                                 \n",
      " dense_1 (Dense)             (None, 64)                2112      \n",
      "                                                                 \n",
      " dense_2 (Dense)             (None, 2)                 130       \n",
      "                                                                 \n",
      "=================================================================\n",
      "Total params: 14,979,106\n",
      "Trainable params: 14,979,106\n",
      "Non-trainable params: 0\n",
      "_________________________________________________________________\n"
     ]
    }
   ],
   "source": [
    "model.summary()"
   ]
  },
  {
   "cell_type": "code",
   "execution_count": 21,
   "metadata": {},
   "outputs": [],
   "source": [
    "model.save('vgg_model.h5')"
   ]
  },
  {
   "cell_type": "code",
   "execution_count": 22,
   "metadata": {},
   "outputs": [
    {
     "data": {
      "text/plain": [
       "<AxesSubplot:>"
      ]
     },
     "execution_count": 22,
     "metadata": {},
     "output_type": "execute_result"
    },
    {
     "data": {
      "image/png": "[encoded data removed]",
      "text/plain": [
       "<Figure size 432x288 with 1 Axes>"
      ]
     },
     "metadata": {
      "needs_background": "light"
     },
     "output_type": "display_data"
    }
   ],
   "source": [
    "training_df = pd.DataFrame(history.history)\n",
    "training_df[['accuracy', 'val_accuracy']].plot()"
   ]
  },
  {
   "cell_type": "code",
   "execution_count": 23,
   "metadata": {},
   "outputs": [
    {
     "data": {
      "text/plain": [
       "<AxesSubplot:>"
      ]
     },
     "execution_count": 23,
     "metadata": {},
     "output_type": "execute_result"
    },
    {
     "data": {
      "image/png": "[encoded data removed]",
      "text/plain": [
       "<Figure size 432x288 with 1 Axes>"
      ]
     },
     "metadata": {
      "needs_background": "light"
     },
     "output_type": "display_data"
    }
   ],
   "source": [
    "training_df[['loss', 'val_loss']].plot()"
   ]
  },
  {
   "cell_type": "code",
   "execution_count": 24,
   "metadata": {},
   "outputs": [
    {
     "data": {
      "image/png": "[encoded data removed]",
      "text/plain": [
       "<Figure size 432x288 with 2 Axes>"
      ]
     },
     "metadata": {
      "needs_background": "light"
     },
     "output_type": "display_data"
    }
   ],
   "source": [
    "clabels = ['Benign', 'Melignant']\n",
    "cm = confusion_matrix(updated_ytest, model_testing_result)\n",
    "disp = ConfusionMatrixDisplay(confusion_matrix=cm, display_labels=clabels)\n",
    "disp.plot(cmap=plt.cm.Blues)\n",
    "plt.title('Breats Cancer Classification')\n",
    "plt.show()"
   ]
  },
  {
   "cell_type": "code",
   "execution_count": 25,
   "metadata": {},
   "outputs": [
    {
     "data": {
      "image/png": "[encoded data removed]",
      "text/plain": [
       "<Figure size 432x288 with 1 Axes>"
      ]
     },
     "metadata": {
      "needs_background": "light"
     },
     "output_type": "display_data"
    }
   ],
   "source": [
    "roc_log = roc_auc_score(updated_ytest, model_testing_result)\n",
    "false_positive_rate, true_positive_rate, threshold = roc_curve(updated_ytest, model_testing_result)\n",
    "area_under_curve = auc(false_positive_rate, true_positive_rate)\n",
    "\n",
    "plt.plot([0, 1], [0, 1], 'r--')\n",
    "plt.plot(false_positive_rate, true_positive_rate, label='AUC = {:.3f}'.format(area_under_curve))\n",
    "plt.xlabel('False positive rate')\n",
    "plt.ylabel('True positive rate')\n",
    "plt.title('ROC curve')\n",
    "plt.legend(loc='best')\n",
    "plt.show()\n",
    "plt.close()"
   ]
  },
  {
   "cell_type": "code",
   "execution_count": null,
   "metadata": {},
   "outputs": [],
   "source": []
  }
 ],
 "metadata": {
  "kernelspec": {
   "display_name": "Python 3.10.3 64-bit",
   "language": "python",
   "name": "python3"
  },
  "language_info": {
   "codemirror_mode": {
    "name": "ipython",
    "version": 3
   },
   "file_extension": ".py",
   "mimetype": "text/x-python",
   "name": "python",
   "nbconvert_exporter": "python",
   "pygments_lexer": "ipython3",
   "version": "3.10.3"
  },
  "orig_nbformat": 4,
  "vscode": {
   "interpreter": {
    "hash": "aee8b7b246df8f9039afb4144a1f6fd8d2ca17a180786b69acc140d282b71a49"
   }
  }
 },
 "nbformat": 4,
 "nbformat_minor": 2
}
