{
 "cells": [
  {
   "cell_type": "code",
   "execution_count": 20,
   "id": "7ffa1046-aec4-4bff-a1bd-39c705fa65f0",
   "metadata": {},
   "outputs": [],
   "source": [
    "import os \n",
    "import glob \n",
    "import shutil"
   ]
  },
  {
   "cell_type": "code",
   "execution_count": 17,
   "id": "95321087-a1cc-40b9-96b5-ce87a31029a1",
   "metadata": {},
   "outputs": [],
   "source": [
    "path = '/Users/utkarsh/Desktop/BreaKHis_v1/breast/benign/*/*/*/*'"
   ]
  },
  {
   "cell_type": "code",
   "execution_count": 22,
   "id": "9bb5edcc-3f31-405d-9a6e-8744ab4a1fb1",
   "metadata": {},
   "outputs": [
    {
     "name": "stdout",
     "output_type": "stream",
     "text": [
      "Moving completed\n"
     ]
    }
   ],
   "source": [
    "for index , file  in enumerate(glob.glob(path)):\n",
    "    shutil.move(file , '/Users/utkarsh/Desktop/BreaKHis_v1/breast/benign')\n",
    "    final = index \n",
    "if(final == 2479):\n",
    "    print(\"Moving completed\")"
   ]
  },
  {
   "cell_type": "code",
   "execution_count": 33,
   "id": "c7723cd4-d944-4aba-8f83-239010bd4cc3",
   "metadata": {},
   "outputs": [],
   "source": [
    "path2 = '/Users/utkarsh/Desktop/BreaKHis_v1/breast/malignant/*/*/*/*'"
   ]
  },
  {
   "cell_type": "code",
   "execution_count": 36,
   "id": "1d6ab871-de2a-43e6-ad3a-93e5113723a8",
   "metadata": {},
   "outputs": [
    {
     "name": "stdout",
     "output_type": "stream",
     "text": [
      "Moving completed\n"
     ]
    }
   ],
   "source": [
    "for index ,file in enumerate(glob.glob(path2)):\n",
    "    shutil.move(file , '/Users/utkarsh/Desktop/BreaKHis_v1/breast/malignant')\n",
    "    final = index\n",
    "if(final == 5428):\n",
    "    print(\"Moving completed\")\n"
   ]
  },
  {
   "cell_type": "code",
   "execution_count": null,
   "id": "afbca0c7-8527-4f60-8177-b0300a669297",
   "metadata": {},
   "outputs": [],
   "source": []
  }
 ],
 "metadata": {
  "kernelspec": {
   "display_name": "Python (tfm1)",
   "language": "python",
   "name": "myenv"
  },
  "language_info": {
   "codemirror_mode": {
    "name": "ipython",
    "version": 3
   },
   "file_extension": ".py",
   "mimetype": "text/x-python",
   "name": "python",
   "nbconvert_exporter": "python",
   "pygments_lexer": "ipython3",
   "version": "3.9.12"
  }
 },
 "nbformat": 4,
 "nbformat_minor": 5
}
